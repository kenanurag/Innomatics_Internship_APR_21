{
 "cells": [
  {
   "cell_type": "code",
   "execution_count": 6,
   "metadata": {},
   "outputs": [],
   "source": [
    "import matplotlib.pyplot as plt"
   ]
  },
  {
   "cell_type": "code",
   "execution_count": 7,
   "metadata": {},
   "outputs": [],
   "source": [
    "import numpy as np"
   ]
  },
  {
   "cell_type": "code",
   "execution_count": 8,
   "metadata": {},
   "outputs": [],
   "source": [
    "from scipy.stats import t"
   ]
  },
  {
   "cell_type": "code",
   "execution_count": 9,
   "metadata": {},
   "outputs": [],
   "source": [
    "from scipy.stats import norm"
   ]
  },
  {
   "cell_type": "code",
   "execution_count": 10,
   "metadata": {},
   "outputs": [],
   "source": [
    "#Functions we will use in the later part\n",
    "def std(l):\n",
    "    m = sum(l)/len(l)\n",
    "    s = 0\n",
    "    for i in l:\n",
    "        s = s + (i-m)**2\n",
    "    s = s/(len(l)-1)\n",
    "    return (s**0.5)\n",
    "def t_score(X,u,S,n):\n",
    "    return (X-u)/(S/(n**0.5))"
   ]
  },
  {
   "cell_type": "markdown",
   "metadata": {},
   "source": [
    " # Question 1\n",
    " \n",
    " Q-1: Pista House selling Hyderabadi Chicken Dum biryani claims that each parcel packet has 500 grams of biryani (also mentioned on the label of packet). You are sceptic of their claims and believe that on average each packet does not contain 500 grams of biryani. How do you prove your claim?\n",
    " \n",
    " ## Step-1 \n",
    " \n",
    " **Bold claim**: A packet of biryani does not weigh 500g \\\n",
    " $ H_1 : \\mu \\neq $ 500 \\ \n",
    " \n",
    " **Status quo**: Packet of biryani weighs 500g \\\n",
    " $ H_0 : \\mu = $ 500\n",
    " \n",
    " ## Step-2\n",
    " \n",
    " We collect a sample. Here, we collected a sample of size 10 with values [ 490, 220, 470, 500, 495, 496, 496, 498, 508, 480] and compute the mean is this sample."
   ]
  },
  {
   "cell_type": "code",
   "execution_count": 11,
   "metadata": {},
   "outputs": [
    {
     "name": "stdout",
     "output_type": "stream",
     "text": [
      "mean : 465.3\n"
     ]
    }
   ],
   "source": [
    "sample = [ 490, 220, 470, 500, 495, 496, 496, 498, 508, 480]\n",
    "mu = 500\n",
    "n=10\n",
    "mean = sum(sample)/n\n",
    "print('mean :',mean)"
   ]
  },
  {
   "cell_type": "markdown",
   "metadata": {},
   "source": [
    "We get the sample mean, $ \\bar{x} $ = 465.3.\n",
    "\n",
    "## Step - 3\n",
    "\n",
    "Computing the test statistic\n",
    "\n",
    "t_score = $ \\frac{\\bar{x}-\\mu}{S\\sqrt{n}} $ where S is the sample standard deviation"
   ]
  },
  {
   "cell_type": "code",
   "execution_count": 12,
   "metadata": {},
   "outputs": [
    {
     "name": "stdout",
     "output_type": "stream",
     "text": [
      "Standard deviation : 86.84859110991827\n"
     ]
    }
   ],
   "source": [
    "Std_dev = std(sample)\n",
    "print(\"Standard deviation :\",Std_dev)"
   ]
  },
  {
   "cell_type": "code",
   "execution_count": 13,
   "metadata": {},
   "outputs": [
    {
     "name": "stdout",
     "output_type": "stream",
     "text": [
      "t score : 1.2634751284446715\n"
     ]
    }
   ],
   "source": [
    "t_sc = t_score(mean,mu,Std_dev,n)\n",
    "print('t score :',abs(t_sc))"
   ]
  },
  {
   "cell_type": "markdown",
   "metadata": {},
   "source": [
    "# Step - 4\n",
    "\n",
    " We use the confidence levels. \n",
    " $ \\alpha $ = 1 - confidence level"
   ]
  },
  {
   "cell_type": "code",
   "execution_count": 14,
   "metadata": {},
   "outputs": [],
   "source": [
    "confidence_level = 0.95\n",
    "alpha = 1 - confidence_level"
   ]
  },
  {
   "cell_type": "markdown",
   "metadata": {},
   "source": [
    "Now, our test is two tailed. Hence our rejection area is $ \\frac{\\alpha}{2} $ % of the total area on both ends of the distribution. Hence we need to find the value t_critical $ t_{9,\\frac{\\alpha}{2}} $. Here 9 is the degrees of freedom which is equal to n-1."
   ]
  },
  {
   "cell_type": "markdown",
   "metadata": {},
   "source": [
    "## Step-5\n",
    "\n",
    "### Step 5.1\n",
    "\n",
    "If |t_score| > |t_critical| : We reject $ H_0 $ and accept $ H_1 $. \n",
    "Else, we reject $ H_1 $ and fail to reject $ H_0 $.\\\n",
    "\n",
    "### Step 5.2\n",
    "\n",
    "If the p value is greater than $ \\ alpha $, we fail to reject $ H_0 $.\\\n",
    "p value = 2*(1-cdf(|t score|)) for two tailed test where cdf is the cumulative distribution function."
   ]
  },
  {
   "cell_type": "code",
   "execution_count": 15,
   "metadata": {},
   "outputs": [
    {
     "name": "stdout",
     "output_type": "stream",
     "text": [
      "2.2621571627409915\n"
     ]
    }
   ],
   "source": [
    "t_critical = abs(t.ppf(alpha/2, df = 9))\n",
    "print(t_critical)"
   ]
  },
  {
   "cell_type": "code",
   "execution_count": 16,
   "metadata": {},
   "outputs": [
    {
     "name": "stdout",
     "output_type": "stream",
     "text": [
      "Fail to reject Null Hypothesis\n"
     ]
    }
   ],
   "source": [
    "if abs(t_sc) > abs(t_critical):\n",
    "    print('We reject H0')\n",
    "else:\n",
    "    print(\"Fail to reject Null Hypothesis\")"
   ]
  },
  {
   "cell_type": "code",
   "execution_count": 45,
   "metadata": {},
   "outputs": [
    {
     "name": "stdout",
     "output_type": "stream",
     "text": [
      "p_value =  0.23816470585327654\n",
      "Fail to reject Null Hypothesis\n"
     ]
    }
   ],
   "source": [
    "p_value = 2 * (1.0 - t.cdf(abs(t_sc),df = 9))\n",
    "\n",
    "print(\"p_value = \", p_value)\n",
    "\n",
    "if(p_value < alpha):\n",
    "    print(\"Reject Null Hypothesis\")\n",
    "else:\n",
    "    print(\"Fail to reject Null Hypothesis\")"
   ]
  },
  {
   "cell_type": "markdown",
   "metadata": {},
   "source": [
    "**Hence we fail to reject $ H_0 $ and we conclude that a packet of biryani from Pista House does indeed have 500g** "
   ]
  },
  {
   "cell_type": "code",
   "execution_count": 46,
   "metadata": {},
   "outputs": [
    {
     "data": {
      "text/plain": [
       "Text(465.3, 0, 'x_bar')"
      ]
     },
     "execution_count": 46,
     "metadata": {},
     "output_type": "execute_result"
    },
    {
     "data": {
      "image/png": "[encoded data removed]",
      "text/plain": [
       "<Figure size 432x288 with 1 Axes>"
      ]
     },
     "metadata": {
      "needs_background": "light"
     },
     "output_type": "display_data"
    }
   ],
   "source": [
    "# Ploting the sampling distribution with rejection regions\n",
    "\n",
    "# Defining the x minimum and x maximum\n",
    "x_min = 400\n",
    "x_max = 600\n",
    "\n",
    "sam_std = Std_dev/(10**0.5)\n",
    "\n",
    "\n",
    "# Ploting the graph and setting the x limits\n",
    "x = np.linspace(x_min, x_max, 100)\n",
    "y = norm.pdf(x , mu, sam_std)\n",
    "plt.xlim(x_min, x_max)\n",
    "plt.plot(x, y)\n",
    "\n",
    "\n",
    "# Computing the left and right critical values (Two tailed Test)\n",
    "t_critical_left = mu + (-t_critical * sam_std)\n",
    "t_critical_right = mu + (t_critical * sam_std)\n",
    "\n",
    "\n",
    "# Shading the left rejection region\n",
    "x1 = np.linspace(x_min, t_critical_left, 100)\n",
    "y1 = norm.pdf(x1 , mu, sam_std)\n",
    "plt.fill_between(x1, y1, color='orange')\n",
    "\n",
    "\n",
    "# Shading the right rejection region\n",
    "x2 = np.linspace(t_critical_right, x_max, 100)\n",
    "y2 = norm.pdf(x2 , mu, sam_std)\n",
    "plt.fill_between(x2, y2, color='orange')\n",
    "\n",
    "\n",
    "# Ploting the sample mean and concluding the results \n",
    "plt.scatter(mean, 0)\n",
    "plt.annotate(\"x_bar\", (mean, 0))"
   ]
  },
  {
   "cell_type": "markdown",
   "metadata": {},
   "source": [
    "The graph above illustrates our result"
   ]
  },
  {
   "cell_type": "markdown",
   "metadata": {},
   "source": [
    "# Question 2\n",
    "\n",
    "Q-2: You have developed a new Natural Language Processing Algorithms and done a user study. You claim that the average rating given by the users is greater than 4 on a scale of 1 to 5. How do you prove this to your client?"
   ]
  },
  {
   "cell_type": "markdown",
   "metadata": {},
   "source": [
    " ## Step-1 \n",
    " \n",
    " **Bold claim**: Average rating is greater than 4 \\\n",
    " $ H_1 : \\mu  $ > 4 , $ \\mu $ is the population mean\n",
    " \n",
    " **Status quo**: Average rating is less than or equal to 4 \\\n",
    " $ H_0 : \\mu \\leq $  4\n",
    " \n",
    " ## Step-2\n",
    " \n",
    " We collect a sample. Here, we collected a sample of size 20 with values [4,3,5,4,5,3,5,5,4,2,4,5,5,4,4,5,4,5,4,5] and compute the mean is this sample."
   ]
  },
  {
   "cell_type": "code",
   "execution_count": 19,
   "metadata": {},
   "outputs": [
    {
     "name": "stdout",
     "output_type": "stream",
     "text": [
      "Mean of the sample is : 4.25\n"
     ]
    }
   ],
   "source": [
    "sample2 = [4,3,5,4,5,3,5,5,4,2,4,5,5,4,4,5,4,5,4,5]\n",
    "mean2 = sum(sample2)/20\n",
    "print('Mean of the sample is :',mean2)"
   ]
  },
  {
   "cell_type": "markdown",
   "metadata": {},
   "source": [
    "We get the sample mean, $ \\bar{x} $ = 4.25.\n",
    "\n",
    "## Step - 3\n",
    "\n",
    "Computing the test statistic\n",
    "\n",
    "t_score = $ \\frac{\\bar{x}-\\mu}{S\\sqrt{n}} $ where S is the sample standard deviation"
   ]
  },
  {
   "cell_type": "code",
   "execution_count": 20,
   "metadata": {},
   "outputs": [
    {
     "name": "stdout",
     "output_type": "stream",
     "text": [
      "t score : 1.3142574813455419\n"
     ]
    }
   ],
   "source": [
    "mu2 = 4\n",
    "n2 = 20\n",
    "Std_dev2 = std(sample2)\n",
    "t_sc2 = t_score(mean2,mu2,Std_dev2,n2)\n",
    "print('t score :',abs(t_sc2))"
   ]
  },
  {
   "cell_type": "markdown",
   "metadata": {},
   "source": [
    "# Step - 4\n",
    "\n",
    " We use the confidence levels. \n",
    " $ \\alpha $ = 1 - confidence level"
   ]
  },
  {
   "cell_type": "code",
   "execution_count": 21,
   "metadata": {},
   "outputs": [],
   "source": [
    "confidence_level = 0.95\n",
    "alpha = 1 - confidence_level"
   ]
  },
  {
   "cell_type": "markdown",
   "metadata": {},
   "source": [
    "Now, our test is right tailed.Hence our rejection area is $ \\alpha $ % of the total area on the right end of the distribution."
   ]
  },
  {
   "cell_type": "markdown",
   "metadata": {},
   "source": [
    "## Step-5\n",
    "\n",
    "### Step 5.1\n",
    "\n",
    "If t_score > t_critical : We reject $ H_0 $ and accept $ H_1 $. \\\n",
    "Else, we reject $ H_1 $ and fail to reject $ H_0 $.\n",
    "\n",
    "### Step 5.2\n",
    "\n",
    "If the p value is greater than $ \\ alpha $, we fail to reject $ H_0 $.\\\n",
    "p value = (1-cdf(t score)) for two tailed test where cdf is the cumulative distribution function."
   ]
  },
  {
   "cell_type": "code",
   "execution_count": 22,
   "metadata": {},
   "outputs": [
    {
     "name": "stdout",
     "output_type": "stream",
     "text": [
      "1.729132811521367\n"
     ]
    }
   ],
   "source": [
    "t_critical2 = abs(t.ppf(alpha, df = 19))\n",
    "print(t_critical2)"
   ]
  },
  {
   "cell_type": "code",
   "execution_count": 23,
   "metadata": {},
   "outputs": [
    {
     "name": "stdout",
     "output_type": "stream",
     "text": [
      "Fail to reject Null Hypothesis\n"
     ]
    }
   ],
   "source": [
    "if abs(t_sc2) > abs(t_critical2):\n",
    "    print('We reject H0')\n",
    "else:\n",
    "    print(\"Fail to reject Null Hypothesis\")"
   ]
  },
  {
   "cell_type": "code",
   "execution_count": 24,
   "metadata": {},
   "outputs": [
    {
     "name": "stdout",
     "output_type": "stream",
     "text": [
      "p_value =  0.23816470585327654\n",
      "Fail to reject Null Hypothesis\n"
     ]
    }
   ],
   "source": [
    "p_value2 = (1.0 - t.cdf(abs(t_sc2),df = 19))\n",
    "\n",
    "print(\"p_value = \", p_value)\n",
    "\n",
    "if(p_value2 < alpha):\n",
    "    print(\"Reject Null Hypothesis\")\n",
    "else:\n",
    "    print(\"Fail to reject Null Hypothesis\")"
   ]
  },
  {
   "cell_type": "markdown",
   "metadata": {},
   "source": [
    "The value of t score was found to be less than the t_critical value. Hence we fail to reject $ H_0 $. This is consistent with the p value test as well."
   ]
  },
  {
   "cell_type": "code",
   "execution_count": 25,
   "metadata": {},
   "outputs": [
    {
     "data": {
      "text/plain": [
       "Text(4.25, 0.1, 'x_bar')"
      ]
     },
     "execution_count": 25,
     "metadata": {},
     "output_type": "execute_result"
    },
    {
     "data": {
      "image/png": "[encoded data removed]",
      "text/plain": [
       "<Figure size 432x288 with 1 Axes>"
      ]
     },
     "metadata": {
      "needs_background": "light"
     },
     "output_type": "display_data"
    }
   ],
   "source": [
    " # Defining the x minimum and x maximum\n",
    "x_min = 3.5\n",
    "x_max = 4.5\n",
    "\n",
    "\n",
    "# Defining the sampling distribution mean and sampling distribution std\n",
    "\n",
    "samp_std2 = Std_dev2/(20**0.5)\n",
    "\n",
    "\n",
    "# Ploting the graph and setting the x limits\n",
    "x = np.linspace(x_min, x_max, 100)\n",
    "y = norm.pdf(x, mu2 , samp_std2)\n",
    "plt.xlim(x_min, x_max)\n",
    "plt.plot(x, y)\n",
    "\n",
    "\n",
    "# Computing the right critical value (Right tailed Test)\n",
    "t_critical_right2 = mu2 + (t_critical2 * samp_std2)\n",
    "\n",
    "\n",
    "# Shading the right rejection region\n",
    "x1 = np.linspace(t_critical_right2, x_max, 100)\n",
    "y1 = norm.pdf(x1, mu2, samp_std2)\n",
    "plt.fill_between(x1, y1, color='orange')\n",
    "\n",
    "\n",
    "# Ploting the sample mean and concluding the results \n",
    "plt.scatter(mean2, 0)\n",
    "plt.annotate(\"x_bar\", (mean2, 0.1))"
   ]
  },
  {
   "cell_type": "markdown",
   "metadata": {},
   "source": [
    "Hence, the average rating is less than 4"
   ]
  },
  {
   "cell_type": "markdown",
   "metadata": {},
   "source": [
    "# Question 3\n",
    "\n",
    "Q-3: TATA has developed a better fuel management system for the SUV segment. They claim that with this system, on average the SUV's mileage is at least 15 km/litre?"
   ]
  },
  {
   "cell_type": "markdown",
   "metadata": {},
   "source": [
    " ## Step-1 \n",
    " \n",
    " **Bold claim**: SUVs mileage is at least 15kms \\\n",
    " $ H_1 : \\mu  $ > 15 , $ \\mu $ is the population mean\n",
    " \n",
    " **Status quo**: SUVs mileage is at least 15kms \\\n",
    " $ H_0 : \\mu \\leq $  15\n",
    " \n",
    " ## Step-2\n",
    " \n",
    " We collect a sample. Here, we collected a sample of size 20 with values [14.08,14.13,15.65,13.78,16.26,14.97,15.36,15.81,14.53,16.79,15.78,16.98,13.23,15.43,15.46,13.88,14.31,14.41,15.76,15.38] and compute the mean is this sample."
   ]
  },
  {
   "cell_type": "code",
   "execution_count": 26,
   "metadata": {},
   "outputs": [
    {
     "name": "stdout",
     "output_type": "stream",
     "text": [
      "The mean is : 15.098999999999998\n"
     ]
    }
   ],
   "source": [
    "sample3 = [14.08,14.13,15.65,13.78,16.26,14.97,15.36,15.81,14.53,16.79,15.78,16.98,13.23,15.43,15.46,13.88,14.31,14.41,15.76,15.38]\n",
    "n3 = len(sample3)\n",
    "mean3 = sum(sample3)/n3\n",
    "print('The mean is :',mean3)"
   ]
  },
  {
   "cell_type": "markdown",
   "metadata": {},
   "source": [
    "We get the sample mean, $ \\bar{x} $ = 15.1\n",
    "\n",
    "## Step - 3\n",
    "\n",
    "Computing the test statistic\n",
    "\n",
    "t_score = $ \\frac{\\bar{x}-\\mu}{S\\sqrt{n}} $ where S is the sample standard deviation"
   ]
  },
  {
   "cell_type": "code",
   "execution_count": 27,
   "metadata": {},
   "outputs": [
    {
     "name": "stdout",
     "output_type": "stream",
     "text": [
      "t score : 0.4317882018907916\n"
     ]
    }
   ],
   "source": [
    "mu3 = 15\n",
    "n3 = 20\n",
    "Std_dev3 = std(sample3)\n",
    "t_sc3 = t_score(mean3,mu3,Std_dev3,n3)\n",
    "print('t score :',abs(t_sc3))"
   ]
  },
  {
   "cell_type": "markdown",
   "metadata": {},
   "source": [
    "# Step - 4\n",
    "\n",
    " We use the confidence levels. \n",
    " $ \\alpha $ = 1 - confidence level"
   ]
  },
  {
   "cell_type": "code",
   "execution_count": 28,
   "metadata": {},
   "outputs": [],
   "source": [
    "confidence_level = 0.95\n",
    "alpha = 1 - confidence_level"
   ]
  },
  {
   "cell_type": "markdown",
   "metadata": {},
   "source": [
    "Now, our test is right tailed.Hence our rejection area is $ \\alpha $ % of the total area on the right end of the distribution."
   ]
  },
  {
   "cell_type": "markdown",
   "metadata": {},
   "source": [
    "## Step-5\n",
    "\n",
    "### Step 5.1\n",
    "\n",
    "If t_score > t_critical : We reject $ H_0 $ and accept $ H_1 $. \\\n",
    "Else, we reject $ H_1 $ and fail to reject $ H_0 $.\n",
    "\n",
    "### Step 5.2\n",
    "\n",
    "If the p value is greater than $ \\ alpha $, we fail to reject $ H_0 $.\\\n",
    "p value = (1-cdf(t score)) for two tailed test where cdf is the cumulative distribution function."
   ]
  },
  {
   "cell_type": "code",
   "execution_count": 29,
   "metadata": {},
   "outputs": [
    {
     "name": "stdout",
     "output_type": "stream",
     "text": [
      "1.729132811521367\n"
     ]
    }
   ],
   "source": [
    "t_critical3 = abs(t.ppf(alpha, df = 19))\n",
    "print(t_critical3)"
   ]
  },
  {
   "cell_type": "code",
   "execution_count": 30,
   "metadata": {},
   "outputs": [
    {
     "name": "stdout",
     "output_type": "stream",
     "text": [
      "Fail to reject Null Hypothesis\n"
     ]
    }
   ],
   "source": [
    "if abs(t_sc3) > abs(t_critical3):\n",
    "    print('We reject H0')\n",
    "else:\n",
    "    print(\"Fail to reject Null Hypothesis\")"
   ]
  },
  {
   "cell_type": "code",
   "execution_count": 42,
   "metadata": {},
   "outputs": [
    {
     "name": "stdout",
     "output_type": "stream",
     "text": [
      "p_value =  0.23816470585327654\n",
      "Fail to reject Null Hypothesis\n"
     ]
    }
   ],
   "source": [
    "p_value3 = (1.0 - t.cdf(abs(t_sc3),df = 19))\n",
    "\n",
    "print(\"p_value = \", p_value)\n",
    "\n",
    "if(p_value3 < alpha):\n",
    "    print(\"Reject Null Hypothesis\")\n",
    "else:\n",
    "    print(\"Fail to reject Null Hypothesis\")"
   ]
  },
  {
   "cell_type": "markdown",
   "metadata": {},
   "source": [
    "The value of t score was found to be less than the t_critical value. Hence we fail to reject $ H_0 $. This is consistent with the p value test as well."
   ]
  },
  {
   "cell_type": "code",
   "execution_count": 32,
   "metadata": {},
   "outputs": [
    {
     "data": {
      "text/plain": [
       "Text(15.098999999999998, 0.1, 'x_bar')"
      ]
     },
     "execution_count": 32,
     "metadata": {},
     "output_type": "execute_result"
    },
    {
     "data": {
      "image/png": "[encoded data removed]",
      "text/plain": [
       "<Figure size 432x288 with 1 Axes>"
      ]
     },
     "metadata": {
      "needs_background": "light"
     },
     "output_type": "display_data"
    }
   ],
   "source": [
    "# Defining the x minimum and x maximum\n",
    "x_min = 14\n",
    "x_max = 17\n",
    "\n",
    "\n",
    "# Defining the sampling distribution mean and sampling distribution std\n",
    "\n",
    "samp_std3 = Std_dev3/(20**0.5)\n",
    "\n",
    "\n",
    "# Ploting the graph and setting the x limits\n",
    "x = np.linspace(x_min, x_max, 100)\n",
    "y = norm.pdf(x, mu3 , samp_std3)\n",
    "plt.xlim(x_min, x_max)\n",
    "plt.plot(x, y)\n",
    "\n",
    "\n",
    "# Computing the right critical value (Right tailed Test)\n",
    "t_critical_right3 = mu3 + (t_critical3 * samp_std3)\n",
    "\n",
    "\n",
    "# Shading the right rejection region\n",
    "x1 = np.linspace(t_critical_right3, x_max, 100)\n",
    "y1 = norm.pdf(x1, mu3, samp_std3)\n",
    "plt.fill_between(x1, y1, color='orange')\n",
    "\n",
    "\n",
    "# Ploting the sample mean and concluding the results \n",
    "plt.scatter(mean3, 0)\n",
    "plt.annotate(\"x_bar\", (mean3, 0.1))"
   ]
  },
  {
   "cell_type": "markdown",
   "metadata": {},
   "source": [
    "The above figure illustrates the same."
   ]
  },
  {
   "cell_type": "markdown",
   "metadata": {},
   "source": [
    "# Question 4\n",
    "\n",
    "Q-4: You have developed a new Machine Learning Application and claim that on average it takes less than 100 ms to predict for any future datapoint. How do you convince your client about this claim?"
   ]
  },
  {
   "cell_type": "markdown",
   "metadata": {},
   "source": [
    " ## Step-1 \n",
    " \n",
    " **Bold claim**: Time is less than 100ms \\\n",
    " $ H_1 : \\mu  $ < 100 , $ \\mu $ is the population mean\n",
    " \n",
    " **Status quo**: Time is greater than or equal to 100ms  \\\n",
    " $ H_0 : \\mu \\geq $  100\n",
    " \n",
    " ## Step-2\n",
    " \n",
    " We collect a sample. Here, we collected a sample of size 100 with values with mean = 97.5 and standard deviation of 7.25."
   ]
  },
  {
   "cell_type": "markdown",
   "metadata": {},
   "source": [
    "## Step - 3\n",
    "\n",
    "Computing the test statistic\n",
    "\n",
    "t_score = $ \\frac{\\bar{x}-\\mu}{S\\sqrt{n}} $ where S is the sample standard deviation"
   ]
  },
  {
   "cell_type": "code",
   "execution_count": 49,
   "metadata": {},
   "outputs": [
    {
     "name": "stdout",
     "output_type": "stream",
     "text": [
      "t score : -2.7027027027027026\n"
     ]
    }
   ],
   "source": [
    "mean4 = 97.5\n",
    "mu4 = 100\n",
    "n4 = 100\n",
    "Std_dev4 = 9.25\n",
    "t_sc4 = t_score(mean4,mu4,Std_dev4,n4)\n",
    "print('t score :',t_sc4)"
   ]
  },
  {
   "cell_type": "markdown",
   "metadata": {},
   "source": [
    "# Step - 4\n",
    "\n",
    " We use the confidence levels. \n",
    " $ \\alpha $ = 1 - confidence level"
   ]
  },
  {
   "cell_type": "code",
   "execution_count": 50,
   "metadata": {},
   "outputs": [],
   "source": [
    "Alpha = 0.01"
   ]
  },
  {
   "cell_type": "code",
   "execution_count": 51,
   "metadata": {},
   "outputs": [
    {
     "name": "stdout",
     "output_type": "stream",
     "text": [
      "-2.364605861435974\n"
     ]
    }
   ],
   "source": [
    "t_critical4 = t.ppf(Alpha, df = 99)\n",
    "print(t_critical4)"
   ]
  },
  {
   "cell_type": "markdown",
   "metadata": {},
   "source": [
    "Now, our test is left tailed.Hence our rejection area is $ \\alpha $ % of the total area on the left end of the distribution."
   ]
  },
  {
   "cell_type": "markdown",
   "metadata": {},
   "source": [
    "## Step-5\n",
    "\n",
    "### Step 5.1\n",
    "\n",
    "If t_score < t_critical : We reject $ H_0 $ and accept $ H_1 $. \\\n",
    "Else, we reject $ H_1 $ and fail to reject $ H_0 $.\n",
    "\n",
    "### Step 5.2\n",
    "\n",
    "If the p value is greater than $ \\ alpha $, we fail to reject $ H_0 $.\\\n",
    "p value = (1-cdf(t score)) for two tailed test where cdf is the cumulative distribution function."
   ]
  },
  {
   "cell_type": "code",
   "execution_count": 54,
   "metadata": {},
   "outputs": [
    {
     "name": "stdout",
     "output_type": "stream",
     "text": [
      "Reject Null Hypothesis\n"
     ]
    }
   ],
   "source": [
    "if abs(t_sc4) > abs(t_critical4):\n",
    "    print('Reject Null Hypothesis')\n",
    "else:\n",
    "    print(\"Fail to reject Null Hypothesis\")"
   ]
  },
  {
   "cell_type": "code",
   "execution_count": 52,
   "metadata": {},
   "outputs": [
    {
     "name": "stdout",
     "output_type": "stream",
     "text": [
      "p_value =  0.23816470585327654\n",
      "Reject Null Hypothesis\n"
     ]
    }
   ],
   "source": [
    "p_value4 = 1 - t.cdf(abs(t_sc4),df = 99)\n",
    "\n",
    "print(\"p_value = \", p_value)\n",
    "\n",
    "if(p_value4 < Alpha):\n",
    "    print(\"Reject Null Hypothesis\")\n",
    "else:\n",
    "    print(\"Fail to reject Null Hypothesis\")"
   ]
  },
  {
   "cell_type": "code",
   "execution_count": 58,
   "metadata": {},
   "outputs": [
    {
     "data": {
      "text/plain": [
       "Text(97.5, 0, 'x_bar')"
      ]
     },
     "execution_count": 58,
     "metadata": {},
     "output_type": "execute_result"
    },
    {
     "data": {
      "image/png": "[encoded data removed]",
      "text/plain": [
       "<Figure size 432x288 with 1 Axes>"
      ]
     },
     "metadata": {
      "needs_background": "light"
     },
     "output_type": "display_data"
    }
   ],
   "source": [
    "x_min = 95\n",
    "x_max = 105\n",
    "\n",
    "samp_std4 = Std_dev4/(100**0.5)\n",
    "\n",
    "x = np.linspace(x_min, x_max, 100)\n",
    "y = norm.pdf(x, mu4, samp_std4)\n",
    "\n",
    "plt.xlim(x_min, x_max)\n",
    "plt.plot(x, y)\n",
    "\n",
    "\n",
    "# Computing the left critical value (Left tailed Test)\n",
    "t_critical_right4 = mu4 + (t_critical4 * samp_std4)\n",
    "\n",
    "\n",
    "# Shading the left rejection region\n",
    "x1 = np.linspace(x_min,t_critical_right4, 100)\n",
    "y1 = norm.pdf(x1, mu4, samp_std4)\n",
    "plt.fill_between(x1, y1, color='orange')\n",
    "\n",
    "\n",
    "# Ploting the sample mean and concluding the results \n",
    "plt.scatter(mean4, 0)\n",
    "plt.annotate(\"x_bar\", (mean4, 0))"
   ]
  },
  {
   "cell_type": "markdown",
   "metadata": {},
   "source": [
    "Hence the algorithm takes less than 100ms to predict the result.\n",
    "The above graph explains our result."
   ]
  }
 ],
 "metadata": {
  "kernelspec": {
   "display_name": "Python 3",
   "language": "python",
   "name": "python3"
  },
  "language_info": {
   "codemirror_mode": {
    "name": "ipython",
    "version": 3
   },
   "file_extension": ".py",
   "mimetype": "text/x-python",
   "name": "python",
   "nbconvert_exporter": "python",
   "pygments_lexer": "ipython3",
   "version": "3.8.3"
  }
 },
 "nbformat": 4,
 "nbformat_minor": 4
}
