{
 "cells": [
  {
   "cell_type": "code",
   "execution_count": null,
   "metadata": {},
   "outputs": [],
   "source": [
    "#Question 1\n",
    "import re\n",
    "\n",
    "n = int(input())\n",
    "array = []\n",
    " \n",
    "for i in range(n):\n",
    "    array.append(input())\n",
    "\n",
    "pattern1 = \"^[\\+\\-\\d]\\d*\\.\\d+$\"\n",
    "pattern2 = \"^[\\.]\\d+$\"\n",
    "\n",
    "for i in array:\n",
    "    x = bool(re.match(pattern1,i))\n",
    "    y = bool(re.match(pattern2,i))\n",
    "    print(x or y)"
   ]
  },
  {
   "cell_type": "code",
   "execution_count": null,
   "metadata": {},
   "outputs": [],
   "source": [
    "#Question 2\n",
    "regex_pattern = r\"[,\\.]\"\n",
    "\n",
    "import re\n",
    "print(\"\\n\".join(re.split(regex_pattern, input())))"
   ]
  },
  {
   "cell_type": "code",
   "execution_count": 18,
   "metadata": {},
   "outputs": [
    {
     "name": "stdout",
     "output_type": "stream",
     "text": [
      "HackerRank\n",
      "-1\n"
     ]
    }
   ],
   "source": [
    "#Question 3\n",
    "import re\n",
    "string  = input()\n",
    "pattern = r'([0-9a-z])\\1+'\n",
    "\n",
    "result = re.search(pattern,string)\n",
    "\n",
    "if result == None:\n",
    "    print(-1)\n",
    "else:\n",
    "    print(result.group(1))"
   ]
  },
  {
   "cell_type": "code",
   "execution_count": 22,
   "metadata": {},
   "outputs": [
    {
     "name": "stdout",
     "output_type": "stream",
     "text": [
      "abaabaabaabaae\n",
      "aa\n",
      "aa\n",
      "aa\n"
     ]
    }
   ],
   "source": [
    "#Question 4\n",
    "import re\n",
    "pattern = r\"[^AEIOUaeiou]([AEIOUaeiou]{2}[AEIOUaeiou]*)(?=[^AEIOUaeiou])\"\n",
    "string = input()\n",
    "for i in re.findall(pattern,string):\n",
    "    print(i)\n",
    "if len(re.findall(pattern,string)) == 0:\n",
    "    print(-1)"
   ]
  },
  {
   "cell_type": "code",
   "execution_count": 13,
   "metadata": {},
   "outputs": [
    {
     "name": "stdout",
     "output_type": "stream",
     "text": [
      "babab\n",
      "bab\n",
      "(0, 2)\n",
      "(2, 4)\n"
     ]
    }
   ],
   "source": [
    "#Question 5\n",
    "import re\n",
    "S = input()\n",
    "k = input()\n",
    "pattern = r\"(?=\" + k +')'\n",
    "obj = re.finditer(pattern,S)\n",
    "\n",
    "temp = 0\n",
    "\n",
    "for m in obj:\n",
    "    print('({}, {})'.format(m.start(),m.start() + len(k) - 1))\n",
    "    temp = temp + 1\n",
    "if temp == 0:\n",
    "    print((-1, -1))"
   ]
  },
  {
   "cell_type": "code",
   "execution_count": 27,
   "metadata": {},
   "outputs": [
    {
     "name": "stdout",
     "output_type": "stream",
     "text": [
      "1\n",
      "n && && && && && &&n\n",
      "n and && and && and &&n\n"
     ]
    }
   ],
   "source": [
    "#Question 6\n",
    "import re\n",
    "n = int(input())\n",
    "arr_in = []\n",
    "arr_out = []\n",
    "for i in range(n):\n",
    "    arr_in.append(input())\n",
    "for x in arr_in:\n",
    "    y = re.sub(r' (\\&){2} ',' and ',x)\n",
    "    y = re.sub(r' (\\|){2} ',' or ',y)\n",
    "    arr_out.append(y)\n",
    "for i in arr_out:\n",
    "    z = re.sub(r' (\\&){2} ',' and ',i)\n",
    "    z = re.sub(r' (\\|){2} ',' or ',z)\n",
    "    print(z)"
   ]
  },
  {
   "cell_type": "code",
   "execution_count": 1,
   "metadata": {},
   "outputs": [
    {
     "name": "stdout",
     "output_type": "stream",
     "text": [
      "MMMCMXCIX\n",
      "True\n"
     ]
    }
   ],
   "source": [
    "#Question 7\n",
    "regex_pattern = r\"((M{0,3})((CM)?)(C?D?)(C{0,3})((XC)?)(X?L?)(X{0,3})((IX)?)(I?V?)(I{0,3}))$\"\n",
    "\n",
    "import re\n",
    "print(str(bool(re.match(regex_pattern, input()))))"
   ]
  },
  {
   "cell_type": "code",
   "execution_count": null,
   "metadata": {},
   "outputs": [],
   "source": [
    "#Question 8\n",
    "n = int(input())\n",
    "import re\n",
    "pattern = r\"(^[789]((\\d){9}))$\"\n",
    "for i in range(n):\n",
    "    if (re.match(pattern,input())) == None:\n",
    "        print('NO')\n",
    "    else:\n",
    "        print('YES')"
   ]
  },
  {
   "cell_type": "code",
   "execution_count": null,
   "metadata": {},
   "outputs": [],
   "source": [
    "#Question 9\n",
    "n = int(input())\n",
    "import re\n",
    "import email.utils\n",
    "info = []\n",
    "for i in range(n):\n",
    "    info.append(input())\n",
    "pattern = r'(^([0-9a-zA-Z])(\\w|\\.|\\-|_)+@([a-zA-Z]+)\\.([a-zA-Z]{1,3}))$'\n",
    "for i in info:\n",
    "    mail = (i.split(' '))[1]\n",
    "    mail = mail[1:-1]\n",
    "    x = re.match(pattern,mail)\n",
    "    if x == None:\n",
    "        continue\n",
    "    else:\n",
    "        print(i)"
   ]
  },
  {
   "cell_type": "code",
   "execution_count": null,
   "metadata": {},
   "outputs": [],
   "source": [
    "#Question 10\n",
    "N = int(input())\n",
    "import re\n",
    "code = []\n",
    "for i in range(N):\n",
    "    code.append(input())\n",
    "pattern = r\"((\\#)[0-9a-fA-F]+)([^g-zG-Z])\"\n",
    "ptn1 = r\"{\"\n",
    "ptn2 = r\"}\"\n",
    "temp = 0\n",
    "for i in code:\n",
    "    strt = 0\n",
    "    if re.search(ptn1,i) != None:\n",
    "        strt = (re.search(ptn1,i)).start()\n",
    "        temp = 1\n",
    "    if re.search(ptn2,i) != None:\n",
    "        temp = 0\n",
    "    if temp == 1:\n",
    "        for j in re.findall(pattern,i[strt:]):\n",
    "            print(j[0])"
   ]
  },
  {
   "cell_type": "code",
   "execution_count": null,
   "metadata": {},
   "outputs": [],
   "source": [
    "#Question 11\n",
    "from html.parser import HTMLParser\n",
    "\n",
    "class MyHTMLParser(HTMLParser):\n",
    "    def handle_starttag(self, tag, attrs):\n",
    "        print(\"Start : {}\".format(tag))\n",
    "        for key,val in attrs:\n",
    "            print('-> {} > {}'.format(key,val))\n",
    "    def handle_endtag(self, tag):\n",
    "        print('End   : {}'.format(tag))\n",
    "    def handle_startendtag(self, tag, attrs):\n",
    "        print('Empty : {}'.format(tag))\n",
    "        for key,val in attrs:\n",
    "            print('-> {} > {}'.format(key,val))\n",
    "            \n",
    "obj = MyHTMLParser()\n",
    "n = int(input())\n",
    "for i in range(n):\n",
    "    obj.feed(input())"
   ]
  },
  {
   "cell_type": "code",
   "execution_count": null,
   "metadata": {},
   "outputs": [],
   "source": [
    "#Question 12\n",
    "from html.parser import HTMLParser\n",
    "\n",
    "class MyHTMLParser(HTMLParser):\n",
    "    def handle_comment(self, data):\n",
    "        if('\\n' in data):\n",
    "            print(\">>> Multi-line Comment\")\n",
    "        else:\n",
    "            print(\">>> Single-line Comment\")\n",
    "        print(data)\n",
    "    def handle_data(self,data):\n",
    "        if(data != '\\n'):\n",
    "            print(\">>> Data\")\n",
    "            print(data)  \n",
    "  \n",
    "  \n",
    "html = \"\"       \n",
    "for i in range(int(input())):\n",
    "    html += input().rstrip()\n",
    "    html += '\\n'\n",
    "    \n",
    "parser = MyHTMLParser()\n",
    "parser.feed(html)\n",
    "parser.close()"
   ]
  },
  {
   "cell_type": "code",
   "execution_count": null,
   "metadata": {},
   "outputs": [],
   "source": [
    "#Question 13\n",
    "from html.parser import HTMLParser\n",
    "\n",
    "class MyHTMLParser(HTMLParser):\n",
    "    def handle_starttag(self, tag, attrs):\n",
    "        print(tag)\n",
    "        for key,val in attrs:\n",
    "            print('-> {} > {}'.format(key,val))\n",
    "    def handle_startendtag(self, tag, attrs):\n",
    "        print(tag)\n",
    "        for key,val in attrs:\n",
    "            print('-> {} > {}'.format(key,val))\n",
    "            \n",
    "obj = MyHTMLParser()\n",
    "n = int(input())\n",
    "for i in range(n):\n",
    "    obj.feed(input())"
   ]
  },
  {
   "cell_type": "code",
   "execution_count": null,
   "metadata": {},
   "outputs": [],
   "source": [
    "#Question 14\n",
    "import re\n",
    "\n",
    "t = int(input())\n",
    "\n",
    "UID = []\n",
    "for i in range(t):\n",
    "    UID.append(input())\n",
    "p1 = r\"[A-Z]\"\n",
    "p2 = r\"[\\d]\"\n",
    "p3 = r'[0-9a-zA-Z]'\n",
    "for i in UID:\n",
    "    if len(set(i)) < 10:\n",
    "        print('Invalid')\n",
    "    else:\n",
    "        x = re.findall(p1,i)\n",
    "        y = re.findall(p2,i)\n",
    "        z = re.findall(p3,i)\n",
    "        if (len(x) >= 2) and (len(y) >= 3) and (len(z) == 10):\n",
    "            print('Valid')\n",
    "        else:\n",
    "            print('Invalid')"
   ]
  },
  {
   "cell_type": "code",
   "execution_count": null,
   "metadata": {},
   "outputs": [],
   "source": [
    "#Question 15\n",
    "import re\n",
    "n = int(input())\n",
    "crd = []\n",
    "for i in range(n):\n",
    "    crd.append(input())\n",
    "p1 = r\"(([0-9])\\2)\\1\"\n",
    "p2 = r\"(([0-9])-)((\\2){3})\"\n",
    "p3 = r'(([0-9])\\2)\\-\\1'\n",
    "p4 = r\"(([0-9]))((\\2){2})\\-(\\2)\"\n",
    "pattern = r\"(([0-9]{16})$)|(([0-9]{4})\\-([0-9]{4})-([0-9]{4})-([0-9]{4})$)\"\n",
    "start = r\"^[4-6]\"\n",
    "for i in crd:\n",
    "    if re.match(start,i) == None:\n",
    "        print('Invalid')\n",
    "        continue\n",
    "    if re.match(pattern,i) == None:\n",
    "        print('Invalid')\n",
    "        continue\n",
    "    a = re.findall(p1,i)\n",
    "    b = re.findall(p2,i)\n",
    "    c = re.findall(p3,i)\n",
    "    d = re.findall(p4,i)\n",
    "    if (len(a) == 0) and (len(b) == 0) and (len(c) == 0) and (len(d) == 0):\n",
    "        print('Valid')\n",
    "    else:\n",
    "        print('Invalid')"
   ]
  },
  {
   "cell_type": "code",
   "execution_count": 14,
   "metadata": {},
   "outputs": [
    {
     "name": "stdout",
     "output_type": "stream",
     "text": [
      "525201\n",
      "False\n"
     ]
    }
   ],
   "source": [
    "#Question 16\n",
    "regex_integer_in_range = r\"([\\d]{6})$\"\t# Do not delete 'r'.\n",
    "regex_alternating_repetitive_digit_pair = r\"(\\d)(?=(\\d)\\1)\" \n",
    "\n",
    "import re\n",
    "P = input()\n",
    "\n",
    "print (bool(re.match(regex_integer_in_range, P)) \n",
    "and len(re.findall(regex_alternating_repetitive_digit_pair, P)) < 2)"
   ]
  },
  {
   "cell_type": "code",
   "execution_count": null,
   "metadata": {},
   "outputs": [],
   "source": [
    "#Question 17\n",
    "import re\n",
    "\n",
    "first_multiple_input = input().rstrip().split()\n",
    "\n",
    "n = int(first_multiple_input[0])\n",
    "\n",
    "m = int(first_multiple_input[1])\n",
    "\n",
    "matrix = []\n",
    "\n",
    "string  = []\n",
    "\n",
    "for _ in range(n):\n",
    "    matrix_item = input()\n",
    "    matrix.append(matrix_item)\n",
    "for i in range(m):\n",
    "    for j in range(n):\n",
    "        x = (matrix[j])[i]\n",
    "        string.append(x)\n",
    "decoded = ''.join(string)\n",
    "pattern = r\"(\\w)([\\W]+)(?=\\w)\"\n",
    "decoded_new = re.finditer(pattern,decoded)\n",
    "for i in decoded_new:\n",
    "    for j in range(i.start() + 1,i.end()):\n",
    "        string[j] = ' '\n",
    "print(''.join(string))"
   ]
  }
 ],
 "metadata": {
  "kernelspec": {
   "display_name": "Python 3",
   "language": "python",
   "name": "python3"
  },
  "language_info": {
   "codemirror_mode": {
    "name": "ipython",
    "version": 3
   },
   "file_extension": ".py",
   "mimetype": "text/x-python",
   "name": "python",
   "nbconvert_exporter": "python",
   "pygments_lexer": "ipython3",
   "version": "3.8.3"
  }
 },
 "nbformat": 4,
 "nbformat_minor": 4
}
