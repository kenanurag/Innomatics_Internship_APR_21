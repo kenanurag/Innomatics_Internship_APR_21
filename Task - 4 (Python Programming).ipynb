{
 "cells": [
  {
   "cell_type": "code",
   "execution_count": null,
   "metadata": {},
   "outputs": [],
   "source": [
    "#Question 1\n",
    "def swap_case(s):\n",
    "    p = s.swapcase()\n",
    "    return p\n",
    "\n",
    "s = input()\n",
    "result = swap_case(s)\n",
    "print(result)"
   ]
  },
  {
   "cell_type": "code",
   "execution_count": null,
   "metadata": {},
   "outputs": [],
   "source": [
    "#Question 2\n",
    "def split_and_join(line):\n",
    "    line = line.split(\" \")\n",
    "    line = \"-\".join(line)\n",
    "    return line\n",
    "    # write your code here\n",
    "\n",
    "if __name__ == '__main__':\n",
    "    line = input()\n",
    "    result = split_and_join(line)\n",
    "    print(result)"
   ]
  },
  {
   "cell_type": "code",
   "execution_count": null,
   "metadata": {},
   "outputs": [],
   "source": [
    "#Question 3\n",
    "def print_full_name(first, last):\n",
    "    print(\"Hello {} {}! You just delved into python.\".format(first,last))\n",
    "if __name__ == '__main__':\n",
    "    first_name = input()\n",
    "    last_name = input()\n",
    "    print_full_name(first_name, last_name)"
   ]
  },
  {
   "cell_type": "code",
   "execution_count": null,
   "metadata": {},
   "outputs": [],
   "source": [
    "#Question 4\n",
    "def mutate_string(string, position, character):\n",
    "    string = string[:position] + character + string[position + 1 :]\n",
    "    return string\n",
    "\n",
    "if __name__ == '__main__':\n",
    "    s = input()\n",
    "    i, c = input().split()\n",
    "    s_new = mutate_string(s, int(i), c)\n",
    "    print(s_new)"
   ]
  },
  {
   "cell_type": "code",
   "execution_count": 3,
   "metadata": {},
   "outputs": [
    {
     "name": "stdout",
     "output_type": "stream",
     "text": [
      "lololololol\n",
      "lol\n",
      "5\n"
     ]
    }
   ],
   "source": [
    "#Question 5\n",
    "def count_substring(string, sub_string):\n",
    "    cnt = 0\n",
    "    for i in range (len(string)):\n",
    "        if string[i] == sub_string[0] and i < (len(string) - len(sub_string) + 1):\n",
    "            temp = 0\n",
    "            for j in range (1,len(sub_string)):\n",
    "                if string[i+j] == sub_string[j]:\n",
    "                    temp = temp + 1\n",
    "                else:\n",
    "                    break\n",
    "                if temp == len(sub_string) - 1:\n",
    "                    cnt = cnt + 1\n",
    "    return cnt\n",
    "\n",
    "if __name__ == '__main__':\n",
    "    string = input().strip()\n",
    "    sub_string = input().strip()\n",
    "    \n",
    "    count = count_substring(string, sub_string)\n",
    "    print(count)"
   ]
  },
  {
   "cell_type": "code",
   "execution_count": null,
   "metadata": {},
   "outputs": [],
   "source": [
    "#Question 6\n",
    "s = input()\n",
    "c1 = False\n",
    "c2 = False\n",
    "c3 = False\n",
    "c4 = False\n",
    "c5 = False\n",
    "for i in s:\n",
    "    if i.isalnum() == True:\n",
    "        c1 = True\n",
    "    if i.isalpha() == True:\n",
    "        c2 = True\n",
    "    if i.isdigit() == True:\n",
    "        c3 = True\n",
    "    if i.islower() == True:\n",
    "        c4 = True\n",
    "    if i.isupper() == True:\n",
    "        c5 = True\n",
    "print(\"{} \\n{} \\n{} \\n{} \\n{}\".format(c1,c2,c3,c4,c5))"
   ]
  },
  {
   "cell_type": "code",
   "execution_count": 27,
   "metadata": {},
   "outputs": [
    {
     "name": "stdout",
     "output_type": "stream",
     "text": [
      "7\n",
      "      H      \n",
      "     HHH     \n",
      "    HHHHH    \n",
      "   HHHHHHH   \n",
      "  HHHHHHHHH  \n",
      " HHHHHHHHHHH \n",
      "HHHHHHHHHHHHH\n",
      "   HHHHHHH                     HHHHHHH                  \n",
      "   HHHHHHH                     HHHHHHH                  \n",
      "   HHHHHHH                     HHHHHHH                  \n",
      "   HHHHHHH                     HHHHHHH                  \n",
      "   HHHHHHH                     HHHHHHH                  \n",
      "   HHHHHHH                     HHHHHHH                  \n",
      "   HHHHHHH                     HHHHHHH                  \n",
      "   HHHHHHH                     HHHHHHH                  \n",
      "   HHHHHHHHHHHHHHHHHHHHHHHHHHHHHHHHHHH    \n",
      "   HHHHHHHHHHHHHHHHHHHHHHHHHHHHHHHHHHH    \n",
      "   HHHHHHHHHHHHHHHHHHHHHHHHHHHHHHHHHHH    \n",
      "   HHHHHHHHHHHHHHHHHHHHHHHHHHHHHHHHHHH    \n",
      "   HHHHHHH                     HHHHHHH                  \n",
      "   HHHHHHH                     HHHHHHH                  \n",
      "   HHHHHHH                     HHHHHHH                  \n",
      "   HHHHHHH                     HHHHHHH                  \n",
      "   HHHHHHH                     HHHHHHH                  \n",
      "   HHHHHHH                     HHHHHHH                  \n",
      "   HHHHHHH                     HHHHHHH                  \n",
      "   HHHHHHH                     HHHHHHH                  \n",
      "                            HHHHHHHHHHHHH \n",
      "                             HHHHHHHHHHH  \n",
      "                              HHHHHHHHH   \n",
      "                               HHHHHHH    \n",
      "                                HHHHH     \n",
      "                                 HHH      \n",
      "                                  H       \n"
     ]
    }
   ],
   "source": [
    "#Question 7\n",
    "thickness = int(input()) #This must be an odd number\n",
    "c = 'H'\n",
    "\n",
    "#Top Cone\n",
    "for i in range(thickness):\n",
    "    print((c*i).rjust(thickness-1)+c+(c*i).ljust(thickness-1))\n",
    "#Top Pillars\n",
    "for i in range(thickness+1):\n",
    "    print((c*thickness).center(thickness*2)+(c*thickness).center(thickness*6))\n",
    "\n",
    "#Middle Belt\n",
    "for i in range((thickness+1)//2):\n",
    "    print((c*thickness*5).center(thickness*6))   \n",
    "\n",
    "#Bottom Pillars\n",
    "for i in range(thickness+1):\n",
    "    print((c*thickness).center(thickness*2)+(c*thickness).center(thickness*6)) \n",
    "\n",
    "#Bottom Cone\n",
    "for i in range(thickness):\n",
    "    print(((c*(thickness-i-1)).rjust(thickness)+c+(c*(thickness-i-1)).ljust(thickness)).rjust(thickness*6))\n"
   ]
  },
  {
   "cell_type": "code",
   "execution_count": null,
   "metadata": {},
   "outputs": [],
   "source": [
    "#Question 8\n",
    "def wrap(string, max_width):\n",
    "    new_string = ''\n",
    "    for i in range(0,len(string),max_width):\n",
    "        new_string = new_string + string[i:i + max_width] +'\\n'\n",
    "    return new_string\n",
    "\n",
    "if __name__ == '__main__':\n",
    "    string, max_width = input(), int(input())\n",
    "    result = wrap(string, max_width)\n",
    "    print(result)"
   ]
  },
  {
   "cell_type": "code",
   "execution_count": null,
   "metadata": {},
   "outputs": [],
   "source": [
    "#Question 9\n",
    "N,M = input().split()\n",
    "N = int(N)\n",
    "M = int(M)\n",
    "c = '.|.'\n",
    "for i in range(int(N/2)):\n",
    "    print((c*(2*i+1)).center(M,'-'))\n",
    "print('WELCOME'.center(M,'-'))\n",
    "for i in range(int(N/2)):\n",
    "    j = int(N/2) - i\n",
    "    print((c*(2*j - 1)).center(M,'-'))"
   ]
  },
  {
   "cell_type": "code",
   "execution_count": 42,
   "metadata": {},
   "outputs": [
    {
     "name": "stdout",
     "output_type": "stream",
     "text": [
      "2\n",
      " 1  1  1  1\n",
      " 2  2  2 10\n"
     ]
    }
   ],
   "source": [
    "#Question 10\n",
    "def print_formatted(number):\n",
    "    width = len(bin(number)[2:])\n",
    "    string = ''\n",
    "    for i in range(1,number):\n",
    "        dspace = \" \"*(width - (i+10)%10)\n",
    "        ospace = \" \"*(width - len(oct(i)[2:]))\n",
    "        hspace = \" \"*(width - len(hex(i)[2:]))\n",
    "        bspace = \" \"*(width - len(bin(i)[2:]))\n",
    "        string = string +\"{}{} {}{} {}{} {}{}\\n\".format(dspace,i,ospace,oct(i)[2:],hspace,hex(i)[2:],bspace,bin(i)[2:])\n",
    "    dspace = \" \"*(width - (number+10)%10)\n",
    "    ospace = \" \"*(width - len(oct(number)[2:]))\n",
    "    hspace = \" \"*(width - len(hex(number)[2:]))\n",
    "    bspace = \" \"*(width - len(bin(number)[2:]))\n",
    "    string = string +\" {}{} {}{} {}{} {}{}\".format(dspace,number,ospace,oct(number)[2:],hspace,hex(number)[2:],bspace,bin(number)[2:]) \n",
    "    print(string)\n",
    "\n",
    "if __name__ == '__main__':\n",
    "    n = int(input())\n",
    "    print_formatted(n)"
   ]
  },
  {
   "cell_type": "code",
   "execution_count": null,
   "metadata": {},
   "outputs": [],
   "source": [
    "#Question 12\n",
    "def solve(s):\n",
    "    lst = list(s)\n",
    "    lst[0] = lst[0].upper()\n",
    "    for i in range(1,len(lst)):\n",
    "        if ord(lst[i]) == 32:\n",
    "            lst[i+1] = lst[i+1].upper()\n",
    "    return (\"\".join(lst))\n",
    "    \n",
    "if __name__ == '__main__':\n",
    "    fptr = open(os.environ['OUTPUT_PATH'], 'w')\n",
    "\n",
    "    s = input()\n",
    "\n",
    "    result = solve(s)\n",
    "\n",
    "    fptr.write(result + '\\n')\n",
    "\n",
    "    fptr.close()"
   ]
  },
  {
   "cell_type": "code",
   "execution_count": null,
   "metadata": {},
   "outputs": [],
   "source": [
    "#Question 13\n",
    "def count_substring(sub,num):\n",
    "    ke = 0\n",
    "    st = 0\n",
    "    k = len(sub) - num + 1\n",
    "    for i in range(k):\n",
    "        temp = sub[i:(i+num)]\n",
    "        if (temp[0] == 'A') or (temp[0] == 'E') or (temp[0] == 'I') or (temp[0] == 'O') or (temp[0] == 'U'):\n",
    "            ke = ke + 1\n",
    "        else:\n",
    "            st = st + 1\n",
    "    arr = [ke,st]\n",
    "    return arr\n",
    "\n",
    "def minion_game(string):\n",
    "    temp_ke = 0\n",
    "    temp_st = 0\n",
    "    for i in range(1,len(string) + 1):\n",
    "        temp_ke = temp_ke + count_substring(string,i)[0]\n",
    "        temp_st = temp_st + count_substring(string,i)[1]\n",
    "    if temp_ke > temp_st:\n",
    "        print('Kevin {}'.format(temp_ke))\n",
    "    if temp_ke < temp_st:\n",
    "        print('Stuart {}'.format(temp_st))\n",
    "    if temp_ke == temp_st:\n",
    "        print('Draw')\n",
    "if __name__ == '__main__':\n",
    "    s = input()\n",
    "    minion_game(s)"
   ]
  },
  {
   "cell_type": "code",
   "execution_count": null,
   "metadata": {},
   "outputs": [],
   "source": []
  }
 ],
 "metadata": {
  "kernelspec": {
   "display_name": "Python 3",
   "language": "python",
   "name": "python3"
  },
  "language_info": {
   "codemirror_mode": {
    "name": "ipython",
    "version": 3
   },
   "file_extension": ".py",
   "mimetype": "text/x-python",
   "name": "python",
   "nbconvert_exporter": "python",
   "pygments_lexer": "ipython3",
   "version": "3.8.3"
  }
 },
 "nbformat": 4,
 "nbformat_minor": 4
}
