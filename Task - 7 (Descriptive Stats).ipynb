{
 "cells": [
  {
   "cell_type": "code",
   "execution_count": 4,
   "metadata": {},
   "outputs": [],
   "source": [
    "import numpy as np\n",
    "import pandas as pd\n",
    "import scipy.stats as sc\n",
    "import seaborn as sns"
   ]
  },
  {
   "cell_type": "code",
   "execution_count": 79,
   "metadata": {},
   "outputs": [],
   "source": [
    "import matplotlib.pyplot as plt"
   ]
  },
  {
   "cell_type": "code",
   "execution_count": 80,
   "metadata": {},
   "outputs": [],
   "source": [
    "dataset = pd.read_csv('data (1).csv')\n",
    "X = dataset.values"
   ]
  },
  {
   "cell_type": "markdown",
   "metadata": {},
   "source": [
    "# Measure of central tendency:\n",
    "\n",
    "\n",
    "The central value of a dataset which describes the dataset to some extent is called a measure of cental tendency.The are the three measures of central tendency are **mean, median** and **mode**.\n",
    "\n",
    "## Mean\n",
    "\n",
    "This is the average value of the dataset. This is used when there are no outliers in the dataset.\\\n",
    "*Mean* = $ \\frac{\\Sigma^n_{i=1} X_i}{n} $\n",
    "\n",
    "## Median\n",
    "\n",
    "This data point which is at the middle of the sorted dataset. If the dataset has even number of points, we take the mean of the two mid data points as the median. This is preferred over the mean when outliers are present as it is robust to outliers. In datasets with no outliers mean is preferred. This is because the median has higher time complexity as we need to sort the dataset.\n",
    "\n",
    "## Mode\n",
    "\n",
    "The most frequently occuring observation gives us the mode. If there are n observations with the highest occurence, then we get n modes. This is used when the dataset is categorical"
   ]
  },
  {
   "cell_type": "code",
   "execution_count": 27,
   "metadata": {},
   "outputs": [
    {
     "name": "stdout",
     "output_type": "stream",
     "text": [
      "41558.0\n",
      "15500.0\n",
      "0    4\n",
      "dtype: int64\n"
     ]
    }
   ],
   "source": [
    "#Printing the mean of the Monthly income column\n",
    "print(dataset['Mthly_HH_Income'].mean()) #41558.0\n",
    "#Printing the mean of the Monthly expense column\n",
    "print(dataset['Mthly_HH_Expense'].median()) #15500.0\n",
    "#Printing the mode of the number of family members column\n",
    "print(dataset['No_of_Fly_Members'].mode()) #4"
   ]
  },
  {
   "cell_type": "code",
   "execution_count": 28,
   "metadata": {},
   "outputs": [
    {
     "name": "stdout",
     "output_type": "stream",
     "text": [
      "41558.0\n"
     ]
    }
   ],
   "source": [
    "#Printing the mean of the Monthly income columnx = np.array(X)\n",
    "mean = 0\n",
    "for i in range(50):\n",
    "    mean = mean + X[i][0]\n",
    "print(mean/50)"
   ]
  },
  {
   "cell_type": "code",
   "execution_count": 29,
   "metadata": {},
   "outputs": [
    {
     "name": "stdout",
     "output_type": "stream",
     "text": [
      "15500.0\n"
     ]
    }
   ],
   "source": [
    "#Printing the mean of the Monthly expense column\n",
    "y = X[:,1]\n",
    "y.sort()\n",
    "print(0.5*(y[24] + y[25]))"
   ]
  },
  {
   "cell_type": "code",
   "execution_count": 30,
   "metadata": {},
   "outputs": [
    {
     "name": "stdout",
     "output_type": "stream",
     "text": [
      "4\n"
     ]
    }
   ],
   "source": [
    "#Printing the mode of the number of family members column\n",
    "z = X[:,2]\n",
    "mydict = {}\n",
    "for i in z:\n",
    "    if not i in mydict:\n",
    "        mydict[i] = 1\n",
    "    else:\n",
    "        mydict[i] += 1\n",
    "f = max(mydict.values())\n",
    "for i,j in mydict.items():\n",
    "    if j == f:\n",
    "        print(i)"
   ]
  },
  {
   "cell_type": "markdown",
   "metadata": {},
   "source": [
    "# Measure of spread\n",
    "\n",
    "These are a measure of similarity or difference of the data points in our dataset. Essentialy they measure how scattered our data is. Two such importants measures of spread are the **Variance** and the **Standard Deviation**.\n",
    "\n",
    "## Variance and Standard deviation:\n",
    "\n",
    "Variance($ \\sigma^2 $) is the average of squares of deviation of each observation from the mean. Standard deviation($ \\sigma $) is the square root of Variance. \\\n",
    "$ \\sigma^2 = \\frac{\\Sigma^n_{i=1} (X_i - \\mu)^2}{n} $ where $ \\mu $ is the mean of the dataset \\\n",
    "When the population of the dataset, i.e 'n' value is large, we take a sample of the data to estimate the variance. To remove the bias in this sample, we replace 'n' with 'n-1'. The formula hence becomes \\\n",
    "$ \\sigma^2 = \\frac{\\Sigma^n_{i=1} (X_i - \\mu)^2}{n-1} $"
   ]
  },
  {
   "cell_type": "code",
   "execution_count": 31,
   "metadata": {},
   "outputs": [
    {
     "name": "stdout",
     "output_type": "stream",
     "text": [
      "38176400.0\n",
      "6178.705366013175\n"
     ]
    }
   ],
   "source": [
    "#Variance and Standard deviation of EMI or rent amount column\n",
    "print(np.var(X[:,3]))\n",
    "print((np.var(X[:,3]))**0.5)"
   ]
  },
  {
   "cell_type": "code",
   "execution_count": 32,
   "metadata": {},
   "outputs": [
    {
     "name": "stdout",
     "output_type": "stream",
     "text": [
      "38176400.0\n",
      "6178.705366013175\n"
     ]
    }
   ],
   "source": [
    "#Variance and Standard deviation of EMI or rent amount column\n",
    "def variance(array):\n",
    "    mean = sum(array)/len(array)\n",
    "    s = 0\n",
    "    for i in array:\n",
    "        s = s + ((i-mean)**2)\n",
    "    return (s/len(array))\n",
    "print(variance(X[:,3]))\n",
    "print((variance(X[:,3]))**0.5)"
   ]
  },
  {
   "cell_type": "markdown",
   "metadata": {},
   "source": [
    "# Correlation\n",
    " \n",
    " This tells us how(whether) two variables are linearly related. This is measured with the help of a correlation coefficient, the most common of which is the **_Pearson correlation coefficient_ ($ \\rho $)** .\n",
    " \n",
    "$ \\rho = \\frac{cov(x,y)}{\\sigma_x * \\sigma_y} $ \\where cov(x,y) is the covariance of x and y which measure the relationship between x and y. A positive covariance indicates x increases as y increases and a negative covariance while a negative covariance indicates x decreases as y increases or vice-versa.\\\n",
    "cov(x,y) = $ \\frac{\\sum_{i=0}^n (x - \\mu_x)(y - \\mu_y)}{n}$ where $ \\mu_x $ and $ \\mu_y $ are means of x and y respectively  \\\n",
    "$ and \\sigma_x and \\sigma_y $ are the variances of x and y respetively.\n"
   ]
  },
  {
   "cell_type": "code",
   "execution_count": 33,
   "metadata": {},
   "outputs": [
    {
     "name": "stdout",
     "output_type": "stream",
     "text": [
      "0.461\n"
     ]
    }
   ],
   "source": [
    "#Correlation between family expense and no of family members\n",
    "x1 = X[:,1]\n",
    "x2 = X[:,2]\n",
    "print(round(sc.pearsonr(x1,x2)[0],3))"
   ]
  },
  {
   "cell_type": "code",
   "execution_count": 42,
   "metadata": {},
   "outputs": [
    {
     "name": "stdout",
     "output_type": "stream",
     "text": [
      "0.461\n"
     ]
    }
   ],
   "source": [
    "#Correlation between family expense and no of family members\n",
    "def std(l):\n",
    "    m = sum(l)/len(l)\n",
    "    s = 0\n",
    "    for i in l:\n",
    "        s = s + (i-m)**2\n",
    "    s = s/len(l)\n",
    "    return (s**0.5)\n",
    "n = 50\n",
    "X1 = x[:,1]\n",
    "Y1 = x[:,2]\n",
    "std_X = std(X1)\n",
    "std_Y = std(Y1)\n",
    "mean_X = sum(X1)/n\n",
    "mean_Y = sum(Y1)/n\n",
    "Num = 0\n",
    "for i in range(n):\n",
    "    Num = Num + ((X1[i] - mean_X)*(Y1[i]-mean_Y))\n",
    "Dr = n*std_X*std_Y\n",
    "print(round((Num/Dr),3))"
   ]
  },
  {
   "cell_type": "markdown",
   "metadata": {},
   "source": [
    "# Normal distribution\n",
    "\n",
    "A continuos probability distribution which has the following probability density function(pdf): \\\n",
    "$ {\\displaystyle f(x)={\\frac {1}{\\sigma {\\sqrt {2\\pi }}}}e^{-{\\frac {1}{2}}\\left({\\frac {x-\\mu }{\\sigma }}\\right)^{2}}} $ \\ (here $ \\mu $ and $ \\sigma $ are the mean and the standard deviation respectively)\n",
    "is called a normal distribution.\\\n",
    "This is one of the most common distributions in practice. A schematic is shown below.\n",
    "<!-- ![Alt Text](image path) -->\n",
    "![Alt Text](https://spss-tutorials.com/img/normal-distribution-iq-scores-example-2.png)\n",
    "\n",
    "## Features of a Normal Distribution\n",
    "\n",
    "1. The curve is symmetric and bell shaped\n",
    "2. It is symmetric about the mean. Here the mean, mode and median are the same\n",
    "3. The total area of the curve gives us the total probability which is equal to 1. The area between one standard deviation on either side of the curve is 68% of the total area. This is summarised below:\\\n",
    "P(($ \\bar X $ - S) < $ \\bar X $ < ($ \\bar X $ + S)) = 68.3% \\\n",
    "P(($ \\bar X $ - 2S) < $ \\bar X $ < ($ \\bar X $ + 2S)) = 95.4% \\\n",
    "P(($ \\bar X $ - 3S) < $ \\bar X $ < ($ \\bar X $ + 3S)) = 99.7% where $ \\bar X $ is the mean and S is the standard deviation of the sample. This is called the 68-95-99.7 rule."
   ]
  },
  {
   "cell_type": "markdown",
   "metadata": {},
   "source": [
    "# Skewness\n",
    "\n",
    "If the curve isn't symmetrical, i.e slightly deviated towards left or right, it is said to be skewed. If the curve is deviated towards left, it is called left(negatively) skewed distribution and if it is deviated towards right, it is called right(positively) skewed distribution. The same is illustrated below:\n",
    "<!-- ![Alt Text](image path) -->\n",
    "![Alt Text](https://upload.wikimedia.org/wikipedia/commons/thumb/c/cc/Relationship_between_mean_and_median_under_different_skewness.png/434px-Relationship_between_mean_and_median_under_different_skewness.png)\n"
   ]
  },
  {
   "cell_type": "markdown",
   "metadata": {},
   "source": [
    "As we can see from the above picture, in a postively skewed distribution since more values are added to the right, the mean and the median shift towards right. But the mode doesn't change as the highest frequency value is still the vale corresponding to the peak of the distribution."
   ]
  },
  {
   "cell_type": "code",
   "execution_count": 73,
   "metadata": {},
   "outputs": [
    {
     "name": "stderr",
     "output_type": "stream",
     "text": [
      "C:\\Users\\91810\\anaconda3\\lib\\site-packages\\seaborn\\distributions.py:2557: FutureWarning: `distplot` is a deprecated function and will be removed in a future version. Please adapt your code to use either `displot` (a figure-level function with similar flexibility) or `histplot` (an axes-level function for histograms).\n",
      "  warnings.warn(msg, FutureWarning)\n"
     ]
    },
    {
     "data": {
      "text/plain": [
       "<AxesSubplot:ylabel='Density'>"
      ]
     },
     "execution_count": 73,
     "metadata": {},
     "output_type": "execute_result"
    },
    {
     "data": {
      "image/png": "[encoded data removed]",
      "text/plain": [
       "<Figure size 432x288 with 1 Axes>"
      ]
     },
     "metadata": {
      "needs_background": "light"
     },
     "output_type": "display_data"
    }
   ],
   "source": [
    "#Monthly income\n",
    "sns.distplot(X[:,0])"
   ]
  },
  {
   "cell_type": "code",
   "execution_count": 74,
   "metadata": {},
   "outputs": [
    {
     "name": "stderr",
     "output_type": "stream",
     "text": [
      "C:\\Users\\91810\\anaconda3\\lib\\site-packages\\seaborn\\distributions.py:2557: FutureWarning: `distplot` is a deprecated function and will be removed in a future version. Please adapt your code to use either `displot` (a figure-level function with similar flexibility) or `histplot` (an axes-level function for histograms).\n",
      "  warnings.warn(msg, FutureWarning)\n"
     ]
    },
    {
     "data": {
      "text/plain": [
       "<AxesSubplot:ylabel='Density'>"
      ]
     },
     "execution_count": 74,
     "metadata": {},
     "output_type": "execute_result"
    },
    {
     "data": {
      "image/png": "[encoded data removed]",
      "text/plain": [
       "<Figure size 432x288 with 1 Axes>"
      ]
     },
     "metadata": {
      "needs_background": "light"
     },
     "output_type": "display_data"
    }
   ],
   "source": [
    "#Montly expenses\n",
    "sns.distplot(X[:,1])"
   ]
  },
  {
   "cell_type": "code",
   "execution_count": 76,
   "metadata": {},
   "outputs": [
    {
     "name": "stderr",
     "output_type": "stream",
     "text": [
      "C:\\Users\\91810\\anaconda3\\lib\\site-packages\\seaborn\\distributions.py:2557: FutureWarning: `distplot` is a deprecated function and will be removed in a future version. Please adapt your code to use either `displot` (a figure-level function with similar flexibility) or `histplot` (an axes-level function for histograms).\n",
      "  warnings.warn(msg, FutureWarning)\n"
     ]
    },
    {
     "data": {
      "text/plain": [
       "<AxesSubplot:ylabel='Density'>"
      ]
     },
     "execution_count": 76,
     "metadata": {},
     "output_type": "execute_result"
    },
    {
     "data": {
      "image/png": "[encoded data removed]",
      "text/plain": [
       "<Figure size 432x288 with 1 Axes>"
      ]
     },
     "metadata": {
      "needs_background": "light"
     },
     "output_type": "display_data"
    }
   ],
   "source": [
    "#No of family members\n",
    "sns.distplot(X[:,2])"
   ]
  },
  {
   "cell_type": "code",
   "execution_count": 75,
   "metadata": {},
   "outputs": [
    {
     "name": "stderr",
     "output_type": "stream",
     "text": [
      "C:\\Users\\91810\\anaconda3\\lib\\site-packages\\seaborn\\distributions.py:2557: FutureWarning: `distplot` is a deprecated function and will be removed in a future version. Please adapt your code to use either `displot` (a figure-level function with similar flexibility) or `histplot` (an axes-level function for histograms).\n",
      "  warnings.warn(msg, FutureWarning)\n"
     ]
    },
    {
     "data": {
      "text/plain": [
       "<AxesSubplot:ylabel='Density'>"
      ]
     },
     "execution_count": 75,
     "metadata": {},
     "output_type": "execute_result"
    },
    {
     "data": {
      "image/png": "[encoded data removed]",
      "text/plain": [
       "<Figure size 432x288 with 1 Axes>"
      ]
     },
     "metadata": {
      "needs_background": "light"
     },
     "output_type": "display_data"
    }
   ],
   "source": [
    "#EMI or Rent expenses\n",
    "sns.distplot(X[:,3])"
   ]
  },
  {
   "cell_type": "code",
   "execution_count": 77,
   "metadata": {},
   "outputs": [
    {
     "name": "stderr",
     "output_type": "stream",
     "text": [
      "C:\\Users\\91810\\anaconda3\\lib\\site-packages\\seaborn\\distributions.py:2557: FutureWarning: `distplot` is a deprecated function and will be removed in a future version. Please adapt your code to use either `displot` (a figure-level function with similar flexibility) or `histplot` (an axes-level function for histograms).\n",
      "  warnings.warn(msg, FutureWarning)\n"
     ]
    },
    {
     "data": {
      "text/plain": [
       "<AxesSubplot:ylabel='Density'>"
      ]
     },
     "execution_count": 77,
     "metadata": {},
     "output_type": "execute_result"
    },
    {
     "data": {
      "image/png": "[encoded data removed]",
      "text/plain": [
       "<Figure size 432x288 with 1 Axes>"
      ]
     },
     "metadata": {
      "needs_background": "light"
     },
     "output_type": "display_data"
    }
   ],
   "source": [
    "#Annual income\n",
    "sns.distplot(X[:,4])"
   ]
  },
  {
   "cell_type": "code",
   "execution_count": 78,
   "metadata": {},
   "outputs": [
    {
     "name": "stderr",
     "output_type": "stream",
     "text": [
      "C:\\Users\\91810\\anaconda3\\lib\\site-packages\\seaborn\\distributions.py:2557: FutureWarning: `distplot` is a deprecated function and will be removed in a future version. Please adapt your code to use either `displot` (a figure-level function with similar flexibility) or `histplot` (an axes-level function for histograms).\n",
      "  warnings.warn(msg, FutureWarning)\n"
     ]
    },
    {
     "data": {
      "text/plain": [
       "<AxesSubplot:ylabel='Density'>"
      ]
     },
     "execution_count": 78,
     "metadata": {},
     "output_type": "execute_result"
    },
    {
     "data": {
      "image/png": "[encoded data removed]",
      "text/plain": [
       "<Figure size 432x288 with 1 Axes>"
      ]
     },
     "metadata": {
      "needs_background": "light"
     },
     "output_type": "display_data"
    }
   ],
   "source": [
    "#No of earning members\n",
    "sns.distplot(X[:,6])"
   ]
  },
  {
   "cell_type": "markdown",
   "metadata": {},
   "source": [
    "The Annual income roughly follows normal distribution **if we ignore the peak on the right**, otherwise it is not a normal distribution. The montly expenses is positively skewed. The number of family members distribution looks negatively skewed. We calculate the skewness and kurtosis values to check for the same."
   ]
  },
  {
   "cell_type": "code",
   "execution_count": 97,
   "metadata": {},
   "outputs": [
    {
     "data": {
      "text/plain": [
       "0.11367415455857431"
      ]
     },
     "execution_count": 97,
     "metadata": {},
     "output_type": "execute_result"
    }
   ],
   "source": [
    "dataset['No_of_Fly_Members'].skew()"
   ]
  },
  {
   "cell_type": "code",
   "execution_count": 98,
   "metadata": {},
   "outputs": [
    {
     "data": {
      "text/plain": [
       "-0.8514445579758396"
      ]
     },
     "execution_count": 98,
     "metadata": {},
     "output_type": "execute_result"
    }
   ],
   "source": [
    "dataset['No_of_Fly_Members'].kurt()"
   ]
  },
  {
   "cell_type": "code",
   "execution_count": 94,
   "metadata": {},
   "outputs": [
    {
     "data": {
      "text/plain": [
       "1.1929490975818218"
      ]
     },
     "execution_count": 94,
     "metadata": {},
     "output_type": "execute_result"
    }
   ],
   "source": [
    "dataset['Annual_HH_Income'].skew()"
   ]
  },
  {
   "cell_type": "code",
   "execution_count": 99,
   "metadata": {},
   "outputs": [
    {
     "data": {
      "text/plain": [
       "1.1012908548129197"
      ]
     },
     "execution_count": 99,
     "metadata": {},
     "output_type": "execute_result"
    }
   ],
   "source": [
    "dataset['Annual_HH_Income'].kurt()"
   ]
  },
  {
   "cell_type": "markdown",
   "metadata": {},
   "source": [
    "From the skewness values, the number of family members column is not negatively skewed and while it has a skewness of 0.11 which is close to zero(the value for normal distribution)it has a kurtosis of -0.85 which is far from the required value of 3 required for normal distribution"
   ]
  },
  {
   "cell_type": "markdown",
   "metadata": {},
   "source": [
    " # Q - Q Plot\n",
    " \n",
    " The Q-Q plot or the quantile-quantile plot is a scatter plot that plots the thoeretical quantities(from a distribution,say normal distribution) and the observed quantities.The quantities,called as quantiles, are the values below which a certain proportion of data lies. If the plot is a straight line,the observations match that of the distribution.\n",
    " Non-linearity indicates that our sample distribution is skewed.An example of a Q-Q plot is shown below\n",
    "<!-- ![Alt Text](image path) -->\n",
    "![Alt Text](https://miro.medium.com/max/563/1*jSTbWzq192boua2_w0RZJg.png)"
   ]
  },
  {
   "cell_type": "code",
   "execution_count": 87,
   "metadata": {},
   "outputs": [
    {
     "data": {
      "image/png": "[encoded data removed]",
      "text/plain": [
       "<Figure size 432x288 with 1 Axes>"
      ]
     },
     "metadata": {
      "needs_background": "light"
     },
     "output_type": "display_data"
    }
   ],
   "source": [
    "sc.probplot(dataset['Annual_HH_Income'], dist=\"norm\", plot=plt)\n",
    "\n",
    "plt.grid()"
   ]
  },
  {
   "cell_type": "code",
   "execution_count": 88,
   "metadata": {},
   "outputs": [
    {
     "data": {
      "image/png": "[encoded data removed]",
      "text/plain": [
       "<Figure size 432x288 with 1 Axes>"
      ]
     },
     "metadata": {
      "needs_background": "light"
     },
     "output_type": "display_data"
    }
   ],
   "source": [
    "sc.probplot(dataset['Mthly_HH_Income'], dist=\"norm\", plot=plt)\n",
    "\n",
    "plt.grid()"
   ]
  },
  {
   "cell_type": "markdown",
   "metadata": {},
   "source": [
    "The Q-Q plot, justifies that the Annual income is roughly a normal distribution or the scatter plot values are closer to the line than for other columns"
   ]
  },
  {
   "cell_type": "markdown",
   "metadata": {},
   "source": [
    "# Boxcox transformation\n",
    "\n",
    "To transform distributions like log normal or pareto distribution into normal distribution, we use boxcox transformation. For example, taking the log value of the log normal distribution converts it into normal distribution.\n",
    "<!-- ![Alt Text](image path) -->\n",
    "![Alt Text](https://media.geeksforgeeks.org/wp-content/uploads/20200531214708/powerlaw..png)"
   ]
  },
  {
   "cell_type": "code",
   "execution_count": 92,
   "metadata": {},
   "outputs": [
    {
     "data": {
      "text/plain": [
       "((array([-2.20385432, -1.83293478, -1.61402323, -1.45296849, -1.32267759,\n",
       "         -1.21163342, -1.113805  , -1.02561527, -0.94475674, -0.86964726,\n",
       "         -0.79915021, -0.73241807, -0.66879925, -0.6077796 , -0.54894415,\n",
       "         -0.49195112, -0.43651377, -0.38238727, -0.32935914, -0.27724191,\n",
       "         -0.2258675 , -0.17508277, -0.12474591, -0.07472335, -0.02488719,\n",
       "          0.02488719,  0.07472335,  0.12474591,  0.17508277,  0.2258675 ,\n",
       "          0.27724191,  0.32935914,  0.38238727,  0.43651377,  0.49195112,\n",
       "          0.54894415,  0.6077796 ,  0.66879925,  0.73241807,  0.79915021,\n",
       "          0.86964726,  0.94475674,  1.02561527,  1.113805  ,  1.21163342,\n",
       "          1.32267759,  1.45296849,  1.61402323,  1.83293478,  2.20385432]),\n",
       "  array([ 40.31831648,  42.79683339,  50.5170921 ,  50.5170921 ,\n",
       "          54.28331821,  56.29587859,  57.55538753,  61.01339013,\n",
       "          62.0761407 ,  63.10059552,  63.10059552,  65.04699726,\n",
       "          66.33720359,  66.87370106,  66.87370106,  67.74745911,\n",
       "          67.74745911,  67.74745911,  71.01695067,  71.78461975,\n",
       "          72.16178108,  73.26802005,  74.68814484,  74.68814484,\n",
       "          75.37645286,  75.37645286,  78.0000836 ,  78.62643549,\n",
       "          79.84712626,  80.44232498,  81.60438084,  81.60438084,\n",
       "          81.60438084,  81.60438084,  82.17194858,  82.73098204,\n",
       "          84.35985154,  84.62465737,  86.92943718,  89.3410009 ,\n",
       "          89.3410009 ,  91.61630242,  93.77269407,  97.7826036 ,\n",
       "          99.65741298, 101.45686676, 104.19629334, 104.85663515,\n",
       "         104.85663515, 104.85663515])),\n",
       " (16.40104027225453, 76.08387276753645, 0.992944834442526))"
      ]
     },
     "execution_count": 92,
     "metadata": {},
     "output_type": "execute_result"
    },
    {
     "data": {
      "image/png": "[encoded data removed]",
      "text/plain": [
       "<Figure size 432x288 with 1 Axes>"
      ]
     },
     "metadata": {
      "needs_background": "light"
     },
     "output_type": "display_data"
    }
   ],
   "source": [
    "#Boxcox transformation of Montly income\n",
    "graph , l = sc.boxcox(dataset['Mthly_HH_Income'])\n",
    "sc.probplot(graph, dist=\"norm\", plot=plt)"
   ]
  },
  {
   "cell_type": "markdown",
   "metadata": {},
   "source": [
    "We have successfully converted the Montly income roughly to a Normal distribution with the help of Boxcox transformation."
   ]
  },
  {
   "cell_type": "code",
   "execution_count": 101,
   "metadata": {},
   "outputs": [
    {
     "data": {
      "text/plain": [
       "0.9246148763777229"
      ]
     },
     "execution_count": 101,
     "metadata": {},
     "output_type": "execute_result"
    }
   ],
   "source": [
    "dataset['Mthly_HH_Income'].skew()"
   ]
  },
  {
   "cell_type": "code",
   "execution_count": 106,
   "metadata": {},
   "outputs": [
    {
     "data": {
      "text/plain": [
       "0.11555007146606489"
      ]
     },
     "execution_count": 106,
     "metadata": {},
     "output_type": "execute_result"
    }
   ],
   "source": [
    "dataset['Mthly_HH_Income'].kurt()"
   ]
  },
  {
   "cell_type": "code",
   "execution_count": 108,
   "metadata": {},
   "outputs": [],
   "source": [
    "df = pd.DataFrame(graph, columns = ['Mthly_HH_Income'])"
   ]
  },
  {
   "cell_type": "code",
   "execution_count": 109,
   "metadata": {},
   "outputs": [
    {
     "data": {
      "text/plain": [
       "-0.02987968180187428"
      ]
     },
     "execution_count": 109,
     "metadata": {},
     "output_type": "execute_result"
    }
   ],
   "source": [
    "df['Mthly_HH_Income'].skew()"
   ]
  },
  {
   "cell_type": "code",
   "execution_count": 110,
   "metadata": {},
   "outputs": [
    {
     "data": {
      "text/plain": [
       "-0.34009162904638757"
      ]
     },
     "execution_count": 110,
     "metadata": {},
     "output_type": "execute_result"
    }
   ],
   "source": [
    "df['Mthly_HH_Income'].kurt()"
   ]
  },
  {
   "cell_type": "markdown",
   "metadata": {},
   "source": [
    "As we can see, we have significantly improved on the skewness value after boxcox transformation"
   ]
  }
 ],
 "metadata": {
  "kernelspec": {
   "display_name": "Python 3",
   "language": "python",
   "name": "python3"
  },
  "language_info": {
   "codemirror_mode": {
    "name": "ipython",
    "version": 3
   },
   "file_extension": ".py",
   "mimetype": "text/x-python",
   "name": "python",
   "nbconvert_exporter": "python",
   "pygments_lexer": "ipython3",
   "version": "3.8.3"
  }
 },
 "nbformat": 4,
 "nbformat_minor": 4
}
