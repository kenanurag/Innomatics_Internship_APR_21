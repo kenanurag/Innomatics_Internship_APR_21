{
 "cells": [
  {
   "cell_type": "code",
   "execution_count": 15,
   "metadata": {},
   "outputs": [
    {
     "name": "stdout",
     "output_type": "stream",
     "text": [
      "1\n",
      "1\n",
      "1\n",
      "2\n",
      "[[0, 0, 0], [0, 0, 1], [0, 1, 0], [1, 0, 0], [1, 1, 1], [2, 0, 1], [2, 1, 0]]\n"
     ]
    }
   ],
   "source": [
    "#Question 1\n",
    "array = []\n",
    "\n",
    "\n",
    "x = int(input())\n",
    "y = int(input())\n",
    "z = int(input())\n",
    "n = int(input())\n",
    "\n",
    "i = j = k = 0\n",
    "\n",
    "a = []\n",
    "\n",
    "\n",
    "s = x + y + z\n",
    "\n",
    "while i + j + k < s + 1:\n",
    "    a = []\n",
    "    a.extend([i,j,k])\n",
    "    if i + j + k != n:\n",
    "        array.append(a)\n",
    "    if k < z : \n",
    "        k = k + 1\n",
    "    elif j < y:\n",
    "        j = j + 1\n",
    "        k = 0\n",
    "    else:\n",
    "        i = i + 1\n",
    "        j = 0\n",
    "        k = 0\n",
    "    if i > x:\n",
    "        break\n",
    "print(array)\n",
    "        "
   ]
  },
  {
   "cell_type": "code",
   "execution_count": 18,
   "metadata": {},
   "outputs": [
    {
     "name": "stdout",
     "output_type": "stream",
     "text": [
      "5\n",
      "1 5 5 4 3\n",
      "4\n"
     ]
    }
   ],
   "source": [
    "#Question 2\n",
    "n = int(input())\n",
    "arr = [int(i) for i in input().split()]\n",
    "arr.sort(reverse = True)\n",
    "x = max(arr)\n",
    "for i in arr:\n",
    "    if i != x:\n",
    "        print(i)\n",
    "        break"
   ]
  },
  {
   "cell_type": "code",
   "execution_count": null,
   "metadata": {},
   "outputs": [],
   "source": [
    "#Question 3\n",
    "a = []\n",
    "def clone(array):\n",
    "    array_copy = list(array)\n",
    "    return array_copy\n",
    "def runners(p):\n",
    "    a.append(p)\n",
    "N = int(input())\n",
    "arr = []\n",
    "for i in range(0,N):\n",
    "    x = input()\n",
    "    y = input()\n",
    "    arr.append([x,y])\n",
    "keys = [i[0] for i in arr]\n",
    "values = [i[1] for i in arr]\n",
    "values_sorted = clone(values)\n",
    "values_sorted = [float(element) for element in values_sorted]\n",
    "values_sorted.sort()\n",
    "min = values_sorted[0]\n",
    "for i in values_sorted:\n",
    "    if i != min:\n",
    "        runner_up = i\n",
    "        break\n",
    "for i in range(0,len(values)):\n",
    "    if float(values[i]) == runner_up:\n",
    "        runners(keys[i])\n",
    "a.sort()\n",
    "for i in a:\n",
    "    print(i)"
   ]
  },
  {
   "cell_type": "code",
   "execution_count": 32,
   "metadata": {},
   "outputs": [
    {
     "name": "stdout",
     "output_type": "stream",
     "text": [
      "2\n",
      "ken 2 3\n",
      "kenn 3 4\n",
      "ken\n",
      "2.50\n"
     ]
    }
   ],
   "source": [
    "#Question 4\n",
    "n = int(input())\n",
    "student_marks = {}\n",
    "for _ in range(n):\n",
    "    name, *line = input().split()\n",
    "    scores = list(map(float, line))\n",
    "    student_marks[name] = scores\n",
    "query_name = input()\n",
    "lst = list(student_marks[query_name])\n",
    "avg = sum(lst)/len(lst)\n",
    "print('{:.2f}'.format(avg))"
   ]
  },
  {
   "cell_type": "code",
   "execution_count": 3,
   "metadata": {},
   "outputs": [
    {
     "name": "stdout",
     "output_type": "stream",
     "text": [
      "3\n",
      "insert 0 1\n",
      "insert 1 9\n",
      "print\n",
      "[1, 9]\n"
     ]
    }
   ],
   "source": [
    "#Question 5\n",
    "N = int(input())\n",
    "command = []\n",
    "operation = []\n",
    "for i in range(0,N):\n",
    "    com, *temp = input().split()\n",
    "    oper = list(map(int,temp))\n",
    "    operation.append(oper)\n",
    "    command.append(com)\n",
    "array = []\n",
    "for i in range(0,len(command)):\n",
    "    if command[i] == \"insert\":\n",
    "        array.insert(operation[i][0], operation[i][1])\n",
    "    if command[i] == \"print\":\n",
    "        print(array)\n",
    "    if command[i] == \"remove\":\n",
    "        for element in range(0,len(array)):\n",
    "            if operation[i][0] == array[element]:\n",
    "                array.pop(element)\n",
    "                break\n",
    "    if command[i] == \"append\":\n",
    "        array.append(operation[i][0])\n",
    "    if command[i] == \"sort\":\n",
    "        array.sort()\n",
    "    if command[i] == \"pop\":\n",
    "        array.pop()\n",
    "    if command[i] == \"reverse\":\n",
    "        array.reverse()\n",
    "    \n"
   ]
  },
  {
   "cell_type": "code",
   "execution_count": null,
   "metadata": {},
   "outputs": [],
   "source": [
    "#Question 6\n",
    "n = int(input())\n",
    "integer_list = tuple(map(int, input().split()))\n",
    "import builtins\n",
    "print(hash(integer_list))"
   ]
  },
  {
   "cell_type": "code",
   "execution_count": null,
   "metadata": {},
   "outputs": [],
   "source": [
    "#Question 7\n",
    "def average(array):\n",
    "    temp = set(array)\n",
    "    return (sum(temp)/len(temp))\n",
    "    # your code goes here\n",
    "\n",
    "if __name__ == '__main__':\n",
    "    n = int(input())\n",
    "    arr = list(map(int, input().split()))\n",
    "    result = average(arr)\n",
    "    print(result)"
   ]
  },
  {
   "cell_type": "code",
   "execution_count": 1,
   "metadata": {},
   "outputs": [
    {
     "name": "stdout",
     "output_type": "stream",
     "text": [
      "1 2\n",
      "1\n",
      "2 3\n",
      "1 4\n",
      "-1\n"
     ]
    }
   ],
   "source": [
    "#Question 8\n",
    "n,m = input().split()\n",
    "\n",
    "array = [int(i) for i in input().split()]\n",
    "\n",
    "A = [int(i) for i in input().split()]\n",
    "\n",
    "B = [int(i) for i in input().split()]\n",
    "\n",
    "Mydict = {}\n",
    "\n",
    "for i in A:\n",
    "    Mydict[i] = 1\n",
    "for i in B:\n",
    "    Mydict[i] = -1\n",
    "\n",
    "happiness = 0\n",
    "\n",
    "for i in array:\n",
    "    happiness = happiness + Mydict.get(i,0)\n",
    "print(happiness)"
   ]
  },
  {
   "cell_type": "code",
   "execution_count": 4,
   "metadata": {},
   "outputs": [
    {
     "name": "stdout",
     "output_type": "stream",
     "text": [
      "2\n",
      "1 3\n",
      "4\n",
      "1 4 5 7\n",
      "3\n",
      "4\n",
      "5\n",
      "7\n"
     ]
    }
   ],
   "source": [
    "#Question 9\n",
    "M = int(input())\n",
    "set_M = set([int(i) for i in input().split()])\n",
    "N = int(input())\n",
    "set_N = set([int(i) for i in input().split()])\n",
    "x = set_M.union(set_N)\n",
    "y = set_M.intersection(set_N)\n",
    "z = list(x.difference(y))\n",
    "z.sort()\n",
    "for i in z:\n",
    "    print(i)"
   ]
  },
  {
   "cell_type": "code",
   "execution_count": 6,
   "metadata": {},
   "outputs": [
    {
     "name": "stdout",
     "output_type": "stream",
     "text": [
      "2\n",
      "uk\n",
      "ind\n",
      "2\n"
     ]
    }
   ],
   "source": [
    "#Question 10\n",
    "N = int(input())\n",
    "stamps = set()\n",
    "for i in range(0,N):\n",
    "    stamps.add(input())\n",
    "print(len(stamps))"
   ]
  },
  {
   "cell_type": "code",
   "execution_count": 6,
   "metadata": {},
   "outputs": [
    {
     "name": "stdout",
     "output_type": "stream",
     "text": [
      "4\n",
      "1 2 3 4\n",
      "3\n",
      "discard 3\n",
      "remove 3\n",
      "pop\n",
      "{2, 3, 4}\n"
     ]
    }
   ],
   "source": [
    "#Question 11\n",
    "m = int(input())\n",
    "s = set(map(int, input().split()))\n",
    "N = int(input())\n",
    "command = []\n",
    "operation = []\n",
    "for i in range(0,N):\n",
    "    com, *temp = input().split()\n",
    "    oper = list(map(int,temp))\n",
    "    operation.append(oper)\n",
    "    command.append(com)\n",
    "for i in range(0,N):\n",
    "    if command[i] == 'remove':\n",
    "        try:\n",
    "            s.remove(operation[i][0])\n",
    "        except KeyError:\n",
    "            continue\n",
    "    if command[i] == 'discard':\n",
    "        s.discard(operation[i][0])\n",
    "    if command[i] == 'pop':\n",
    "        try:\n",
    "            s.pop()\n",
    "        except KeyError:\n",
    "            continue\n",
    "    \n",
    "print(sum(s))"
   ]
  },
  {
   "cell_type": "code",
   "execution_count": null,
   "metadata": {},
   "outputs": [],
   "source": [
    "#Question 12\n",
    "e = int(input())\n",
    "en = [int(i) for i in input().split()]\n",
    "f = int(input())\n",
    "fn = [int(i) for i in input().split()]\n",
    "Eng_news = set(en)\n",
    "French_news = set(fn)\n",
    "print(len(Eng_news.union(French_news)))"
   ]
  },
  {
   "cell_type": "code",
   "execution_count": null,
   "metadata": {},
   "outputs": [],
   "source": [
    "#Question 13\n",
    "e = int(input())\n",
    "en = [int(i) for i in input().split()]\n",
    "f = int(input())\n",
    "fn = [int(i) for i in input().split()]\n",
    "Eng_news = set(en)\n",
    "French_news = set(fn)\n",
    "print(len(Eng_news.intersection(French_news)))"
   ]
  },
  {
   "cell_type": "code",
   "execution_count": null,
   "metadata": {},
   "outputs": [],
   "source": [
    "#Question 14\n",
    "e = int(input())\n",
    "en = [int(i) for i in input().split()]\n",
    "f = int(input())\n",
    "fn = [int(i) for i in input().split()]\n",
    "Eng_news = set(en)\n",
    "French_news = set(fn)\n",
    "print(len(Eng_news.difference(French_news)))"
   ]
  },
  {
   "cell_type": "code",
   "execution_count": null,
   "metadata": {},
   "outputs": [],
   "source": [
    "#Question 15\n",
    "e = int(input())\n",
    "en = [int(i) for i in input().split()]\n",
    "f = int(input())\n",
    "fn = [int(i) for i in input().split()]\n",
    "Eng_news = set(en)\n",
    "French_news = set(fn)\n",
    "print(len(Eng_news^French_news))"
   ]
  },
  {
   "cell_type": "code",
   "execution_count": 24,
   "metadata": {},
   "outputs": [
    {
     "name": "stdout",
     "output_type": "stream",
     "text": [
      "4\n",
      "1 2 3\n",
      "2\n",
      "update 1\n",
      "4\n",
      "intersection_update 1\n",
      "2\n",
      "2\n"
     ]
    }
   ],
   "source": [
    "#Question 16\n",
    "N = int(input())\n",
    "A =set(input().split())\n",
    "M = int(input())\n",
    "for i in range(0,M):\n",
    "    cmd,set_length=input().split()\n",
    "    temp = set(input().split())\n",
    "    if cmd == \"intersection_update\":\n",
    "        A.intersection_update(temp)\n",
    "    if cmd == \"update\":\n",
    "        A.update(temp)\n",
    "    if cmd == \"difference_update\":\n",
    "        A.difference_update(temp)\n",
    "    if cmd == \"symmetric_difference_update\":\n",
    "        A.symmetric_difference_update(temp)\n",
    "l=list(A)\n",
    "sum = 0\n",
    "for i in l:\n",
    "    sum = sum + int(i)\n",
    "print(sum)"
   ]
  },
  {
   "cell_type": "code",
   "execution_count": null,
   "metadata": {},
   "outputs": [],
   "source": [
    "#Question 17\n",
    "mydict = {}\n",
    "K = int(input())\n",
    "room = [int(i) for i in input().split()]\n",
    "for i in room:\n",
    "    if i not in mydict:\n",
    "        mydict[i] = 1\n",
    "    else:\n",
    "        mydict[i] += 1\n",
    "for key,value in mydict.items():\n",
    "    if value == 1:\n",
    "        print(key)\n",
    "        break"
   ]
  },
  {
   "cell_type": "code",
   "execution_count": null,
   "metadata": {},
   "outputs": [],
   "source": [
    "#Question 18\n",
    "N = int(input())\n",
    "for i in range(0,N):\n",
    "    A_n = int(input())\n",
    "    A_L = [int(i) for i in input().split()]\n",
    "    A = set(A_L)\n",
    "    B_n = int(input())\n",
    "    B_L = [int(i) for i in input().split()]\n",
    "    B = set(B_L)\n",
    "    print(A.issubset(B))"
   ]
  },
  {
   "cell_type": "code",
   "execution_count": null,
   "metadata": {},
   "outputs": [],
   "source": [
    "#Question 19\n",
    "A = set(input().split())\n",
    "n = int(input())\n",
    "count = 0\n",
    "for i in range (0,n):\n",
    "    B = set(input().split())\n",
    "    B = B.difference(A)\n",
    "    if len(B) == 0:\n",
    "        count = count + 1\n",
    "        continue  \n",
    "    else:\n",
    "        break\n",
    "if count == n:\n",
    "    print(True)\n",
    "else:\n",
    "    print(False)"
   ]
  }
 ],
 "metadata": {
  "kernelspec": {
   "display_name": "Python 3",
   "language": "python",
   "name": "python3"
  },
  "language_info": {
   "codemirror_mode": {
    "name": "ipython",
    "version": 3
   },
   "file_extension": ".py",
   "mimetype": "text/x-python",
   "name": "python",
   "nbconvert_exporter": "python",
   "pygments_lexer": "ipython3",
   "version": "3.8.3"
  }
 },
 "nbformat": 4,
 "nbformat_minor": 4
}
