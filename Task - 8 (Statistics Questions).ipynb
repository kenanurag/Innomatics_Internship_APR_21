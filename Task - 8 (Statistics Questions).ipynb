{
 "cells": [
  {
   "cell_type": "code",
   "execution_count": 2,
   "metadata": {},
   "outputs": [
    {
     "name": "stdout",
     "output_type": "stream",
     "text": [
      "0.695703\n"
     ]
    }
   ],
   "source": [
    "#Question 1\n",
    "import math\n",
    "def comb(n,r):\n",
    "    return math.factorial(n)/(math.factorial(n-r)*math.factorial(r))\n",
    "b = 1.09\n",
    "g = 1\n",
    "P_b = b/(b+g)\n",
    "P_g = g/(b+g)\n",
    "c = 0\n",
    "for i in range(3,7):\n",
    "    c = c  + (P_b**i)*(P_g**(6-i))*comb(6,i)\n",
    "print(round(c,6))"
   ]
  },
  {
   "cell_type": "code",
   "execution_count": 6,
   "metadata": {},
   "outputs": [
    {
     "name": "stdout",
     "output_type": "stream",
     "text": [
      "0.891\n",
      "0.342\n"
     ]
    }
   ],
   "source": [
    "#Question 2\n",
    "import math\n",
    "p = 12/100\n",
    "def comb(n,r):\n",
    "    return math.factorial(n)/(math.factorial(n-r)*math.factorial(r))\n",
    "c = 0\n",
    "for i in range(0,3):\n",
    "    c = c  + (p**i)*((1-p)**(10-i))*comb(10,i)\n",
    "x = round(c,3)\n",
    "print(x)\n",
    "print(round((1-x +(p**2)*((1-p)**(8))*comb(10,2) ),3))"
   ]
  },
  {
   "cell_type": "code",
   "execution_count": 1,
   "metadata": {},
   "outputs": [
    {
     "name": "stdout",
     "output_type": "stream",
     "text": [
      "Collecting scipy\n",
      "  Downloading scipy-1.6.3-cp38-cp38-win_amd64.whl (32.7 MB)\n",
      "Requirement already satisfied: numpy<1.23.0,>=1.16.5 in c:\\users\\91810\\anaconda3\\lib\\site-packages (from scipy) (1.20.2)\n",
      "Installing collected packages: scipy\n",
      "Successfully installed scipy-1.6.3\n"
     ]
    }
   ],
   "source": [
    "!pip install scipy"
   ]
  },
  {
   "cell_type": "code",
   "execution_count": 2,
   "metadata": {},
   "outputs": [
    {
     "name": "stdout",
     "output_type": "stream",
     "text": [
      "0.401\n",
      "0.34099999999999997\n"
     ]
    }
   ],
   "source": [
    "from scipy.stats import norm\n",
    "x = round(norm(20,2).cdf(19.5),3)\n",
    "y = round(norm(20,2).cdf(22),3) - round(norm(20,2).cdf(20),3)\n",
    "print(x)\n",
    "print(y)"
   ]
  },
  {
   "cell_type": "code",
   "execution_count": 3,
   "metadata": {},
   "outputs": [
    {
     "name": "stdout",
     "output_type": "stream",
     "text": [
      "0.401\n",
      "0.341\n"
     ]
    }
   ],
   "source": [
    "#Question 3\n",
    "from scipy.stats import norm\n",
    "x = round(norm(20,2).cdf(19.5),3)\n",
    "y = round((norm(20,2).cdf(22) - norm(20,2).cdf(20)),3)\n",
    "print(x)\n",
    "print(y)"
   ]
  },
  {
   "cell_type": "code",
   "execution_count": 13,
   "metadata": {},
   "outputs": [
    {
     "name": "stdout",
     "output_type": "stream",
     "text": [
      "0.401\n",
      "0.341\n"
     ]
    }
   ],
   "source": [
    "#Question 3 alternate\n",
    "import math\n",
    "mean = 20\n",
    "std = 2\n",
    "def cdf(x,m,s):\n",
    "    erf = math.erf((x-m)/(s*(2**0.5)))\n",
    "    result = 0.5*(1+erf)\n",
    "    return round(result,3)\n",
    "print(cdf(19.5,mean,std))\n",
    "print(round(cdf(22,mean,std) - cdf(20,mean,std),3))"
   ]
  },
  {
   "cell_type": "code",
   "execution_count": 15,
   "metadata": {},
   "outputs": [
    {
     "name": "stdout",
     "output_type": "stream",
     "text": [
      "15.87\n",
      "84.13\n",
      "15.87\n"
     ]
    }
   ],
   "source": [
    "#Question 4\n",
    "import math\n",
    "mean = 70\n",
    "std = 10\n",
    "def cdf(x,m,s):\n",
    "    erf = math.erf((x-m)/(s*(2**0.5)))\n",
    "    result = 0.5*(1+erf)\n",
    "    return result\n",
    "print(round((1-cdf(80,mean,std))*100,2))\n",
    "print(round((1-cdf(60,mean,std))*100,2))\n",
    "print(round((cdf(60,mean,std))*100,2))"
   ]
  },
  {
   "cell_type": "code",
   "execution_count": 20,
   "metadata": {},
   "outputs": [
    {
     "name": "stdout",
     "output_type": "stream",
     "text": [
      "0.0098\n"
     ]
    }
   ],
   "source": [
    "#Question 5\n",
    "import math\n",
    "n = 49\n",
    "mean = 205\n",
    "std = 15/(n**0.5)\n",
    "def cdf(x,m,s):\n",
    "    erf = math.erf((x-m)/(s*(2**0.5)))\n",
    "    result = 0.5*(1+erf)\n",
    "    return result\n",
    "#On average each box can weigh 9800/49 = 200 pounds at max\n",
    "print(round(cdf(200,mean,std),4))"
   ]
  },
  {
   "cell_type": "code",
   "execution_count": null,
   "metadata": {},
   "outputs": [],
   "source": [
    "#Question 6\n",
    "import math\n",
    "n = 100\n",
    "mean = 2.4\n",
    "std = 2/(n**0.5)\n",
    "def cdf(x,m,s):\n",
    "    erf = math.erf((x-m)/(s*(2**0.5)))\n",
    "    result = 0.5*(1+erf)\n",
    "    return result\n",
    "#On average each student can buy 250/100 = 2.5 tickets for all tickets to be sold out\n",
    "print(round(cdf(2.5,mean,std),4))"
   ]
  },
  {
   "cell_type": "code",
   "execution_count": 21,
   "metadata": {},
   "outputs": [
    {
     "name": "stdout",
     "output_type": "stream",
     "text": [
      "484.32\n",
      "515.68\n"
     ]
    }
   ],
   "source": [
    "#Question 7\n",
    "n = 100\n",
    "mean = 500\n",
    "std_pop = 80\n",
    "std = 80/(n**0.5)\n",
    "z = 1.96\n",
    "#95% rule is between z scores -1.96 and +1.96\n",
    "print(round(mean - z*std,2))\n",
    "print(round(mean + z*std,2))\n"
   ]
  },
  {
   "cell_type": "code",
   "execution_count": null,
   "metadata": {},
   "outputs": [],
   "source": [
    "#Question 8\n",
    "def std(l):\n",
    "    m = sum(l)/len(l)\n",
    "    s = 0\n",
    "    for i in l:\n",
    "        s = s + (i-m)**2\n",
    "    s = s/len(l)\n",
    "    return (s**0.5)\n",
    "n = int(input())\n",
    "X = [float(i) for i in input().split()]\n",
    "Y = [float(i) for i in input().split()]\n",
    "std_X = std(X)\n",
    "std_Y = std(Y)\n",
    "mean_X = sum(X)/n\n",
    "mean_Y = sum(Y)/n\n",
    "Num = 0\n",
    "for i in range(n):\n",
    "    Num = Num + ((X[i] - mean_X)*(Y[i]-mean_Y))\n",
    "Dr = n*std_X*std_Y\n",
    "print(round((Num/Dr),3))"
   ]
  },
  {
   "cell_type": "code",
   "execution_count": null,
   "metadata": {},
   "outputs": [],
   "source": [
    "#Question 9\n",
    "x = [95,85,80,70,60]\n",
    "y = [85,95,70,65,70]\n",
    "#y = ax+b\n",
    "sum_xy = 0\n",
    "sum_squares_x = 0\n",
    "n = len(x)\n",
    "for i in range(n):\n",
    "    sum_xy = sum_xy + (x[i]*y[i])\n",
    "    sum_squares_x = sum_squares_x + (x[i]**2)\n",
    "a = (n*sum_xy - sum(x)*sum(y))/(n*sum_squares_x - (sum(x)**2))\n",
    "b = (sum(y)-a*sum(x))/n\n",
    "print(round((a*80)+b,3))"
   ]
  },
  {
   "cell_type": "code",
   "execution_count": null,
   "metadata": {},
   "outputs": [],
   "source": [
    "#Question 10\n",
    "import numpy as np\n",
    "m,n = [int(i) for i in input().strip().split()]\n",
    "X = []\n",
    "Y = []\n",
    "for i in range(n):\n",
    "    data = input().strip().split()\n",
    "    X.append(data[:-1])\n",
    "    Y.append(data[-1])\n",
    "X = np.array(X,float)\n",
    "Y = np.array(Y,float)\n",
    "q = int(input())\n",
    "X_new = []\n",
    "for i in range(q):\n",
    "    X_new.append(input().split())\n",
    "X_new = np.array(X_new,float)\n",
    "\n",
    "X_R = X-np.mean(X,axis=0)\n",
    "Y_R = Y-np.mean(Y)\n",
    "\n",
    "b = np.dot(np.linalg.inv(np.dot(X_R.T,X_R)),np.dot(X_R.T,Y_R))\n",
    "\n",
    "X_new_R = X_new-np.mean(X,axis=0)\n",
    "Y_new_R = np.dot(X_new_R,b)\n",
    "Y_new = Y_new_R + np.mean(Y)\n",
    "\n",
    "for i in Y_new:\n",
    "    print(round(i,2))"
   ]
  }
 ],
 "metadata": {
  "kernelspec": {
   "display_name": "Python 3",
   "language": "python",
   "name": "python3"
  },
  "language_info": {
   "codemirror_mode": {
    "name": "ipython",
    "version": 3
   },
   "file_extension": ".py",
   "mimetype": "text/x-python",
   "name": "python",
   "nbconvert_exporter": "python",
   "pygments_lexer": "ipython3",
   "version": "3.8.3"
  }
 },
 "nbformat": 4,
 "nbformat_minor": 4
}
