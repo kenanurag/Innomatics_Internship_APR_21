{
 "cells": [
  {
   "cell_type": "code",
   "execution_count": null,
   "metadata": {},
   "outputs": [],
   "source": [
    "#Question 1\n",
    "import numpy\n",
    "\n",
    "def arrays(a):\n",
    "    return(numpy.array(arr[::-1], float))\n",
    "\n",
    "arr = input().strip().split(' ')\n",
    "result = arrays(arr)\n",
    "print(result)"
   ]
  },
  {
   "cell_type": "code",
   "execution_count": null,
   "metadata": {},
   "outputs": [],
   "source": [
    "#Question 2\n",
    "import numpy\n",
    "\n",
    "arr = [int(i) for i in input().split()]\n",
    "arr = numpy.array(arr)\n",
    "print(arr.reshape(3, 3))"
   ]
  },
  {
   "cell_type": "code",
   "execution_count": null,
   "metadata": {},
   "outputs": [],
   "source": [
    "#Question 3\n",
    "import numpy\n",
    "\n",
    "N, M = input().split()\n",
    "\n",
    "x = numpy.array([input().strip().split() for i in range(int(N))], int)\n",
    "print(x.T)\n",
    "print(x.flatten())"
   ]
  },
  {
   "cell_type": "code",
   "execution_count": null,
   "metadata": {},
   "outputs": [],
   "source": [
    "#Question 4\n",
    "import numpy\n",
    "\n",
    "N,M,P =input().split()\n",
    "N = int(N)\n",
    "M = int(M)\n",
    "P = int(P)\n",
    "x = numpy.array([input().strip().split() for i in range(N)],int)\n",
    "y = numpy.array([input().strip().split() for i in range(M)],int)\n",
    "print(numpy.concatenate((x,y), axis = 0))"
   ]
  },
  {
   "cell_type": "code",
   "execution_count": null,
   "metadata": {},
   "outputs": [],
   "source": [
    "#Question 5\n",
    "import numpy\n",
    "tup = tuple(map(int, input().split(' ')))\n",
    "print(numpy.zeros(tup,dtype = numpy.int))\n",
    "print(numpy.ones(tup,dtype = numpy.int))"
   ]
  },
  {
   "cell_type": "code",
   "execution_count": null,
   "metadata": {},
   "outputs": [],
   "source": [
    "#Question 6\n",
    "import numpy\n",
    "numpy.set_printoptions(legacy = '1.13')\n",
    "n,m = map(int,input().split())\n",
    "x = numpy.eye(n,m)\n",
    "print(x)"
   ]
  },
  {
   "cell_type": "code",
   "execution_count": null,
   "metadata": {},
   "outputs": [],
   "source": [
    "#Question 7\n",
    "import numpy\n",
    "N,M = map(int,input().split())\n",
    "a = numpy.array([input().strip().split() for i in range(N)],int)\n",
    "b = numpy.array([input().strip().split() for i in range(N)],int)\n",
    "print(a+b)\n",
    "print(a-b)\n",
    "print(a*b)\n",
    "print(a//b)\n",
    "print(a%b)\n",
    "print(a**b)"
   ]
  },
  {
   "cell_type": "code",
   "execution_count": null,
   "metadata": {},
   "outputs": [],
   "source": [
    "#Question 8\n",
    "import numpy\n",
    "numpy.set_printoptions(legacy = '1.13')\n",
    "a = numpy.array([float(i) for i in input().split()])\n",
    "print(numpy.floor(a))\n",
    "print(numpy.ceil(a))\n",
    "print(numpy.rint(a))"
   ]
  },
  {
   "cell_type": "code",
   "execution_count": null,
   "metadata": {},
   "outputs": [],
   "source": [
    "#Question 9\n",
    "import numpy\n",
    "N,M = map(int,input().split())\n",
    "x = numpy.array([input().strip().split() for i in range(N)],int)\n",
    "y = numpy.sum(x, axis = 0)\n",
    "print((numpy.prod(y, axis = 0)))"
   ]
  },
  {
   "cell_type": "code",
   "execution_count": null,
   "metadata": {},
   "outputs": [],
   "source": [
    "#Question 10\n",
    "import numpy\n",
    "N,M = map(int,input().split())\n",
    "x = numpy.array([input().strip().split() for i in range(N)],int)\n",
    "y = numpy.min(x, axis = 1)\n",
    "print(numpy.max(y, axis = None))"
   ]
  },
  {
   "cell_type": "code",
   "execution_count": null,
   "metadata": {},
   "outputs": [],
   "source": [
    "#Question 11\n",
    "import numpy\n",
    "N,M = map(int,input().split())\n",
    "x = numpy.array([input().strip().split() for i in range(N)],int)\n",
    "print(numpy.mean(x, axis = 1))\n",
    "print(numpy.var(x, axis = 0))\n",
    "print(round(numpy.std(x, axis = None),11))"
   ]
  },
  {
   "cell_type": "code",
   "execution_count": null,
   "metadata": {},
   "outputs": [],
   "source": [
    "#Question 12\n",
    "import numpy\n",
    "N = int(input())\n",
    "A = numpy.array([input().strip().split() for i in range(N)],int)\n",
    "B = numpy.array([input().strip().split() for i in range(N)],int)\n",
    "print(numpy.matmul(A,B))"
   ]
  },
  {
   "cell_type": "code",
   "execution_count": null,
   "metadata": {},
   "outputs": [],
   "source": [
    "#Question 13\n",
    "import numpy\n",
    "a = numpy.array([int(i) for i in input().split()])\n",
    "b = numpy.array([int(i) for i in input().split()])\n",
    "print(numpy.inner(a,b))\n",
    "print(numpy.outer(a,b))"
   ]
  },
  {
   "cell_type": "code",
   "execution_count": null,
   "metadata": {},
   "outputs": [],
   "source": [
    "#Question 14\n",
    "import numpy\n",
    "\n",
    "p = [float(i) for i in input().split()]\n",
    "x = float(input())\n",
    "print(numpy.polyval(p,x))"
   ]
  },
  {
   "cell_type": "code",
   "execution_count": null,
   "metadata": {},
   "outputs": [],
   "source": [
    "#Question 15\n",
    "import numpy\n",
    "N = int(input())\n",
    "A = numpy.array([input().strip().split() for i in range(N)],float)\n",
    "print(round(numpy.linalg.det(A),2))"
   ]
  }
 ],
 "metadata": {
  "kernelspec": {
   "display_name": "Python 3",
   "language": "python",
   "name": "python3"
  },
  "language_info": {
   "codemirror_mode": {
    "name": "ipython",
    "version": 3
   },
   "file_extension": ".py",
   "mimetype": "text/x-python",
   "name": "python",
   "nbconvert_exporter": "python",
   "pygments_lexer": "ipython3",
   "version": "3.8.3"
  }
 },
 "nbformat": 4,
 "nbformat_minor": 4
}
